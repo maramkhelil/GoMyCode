{
 "cells": [
  {
   "cell_type": "markdown",
   "id": "4e500631",
   "metadata": {},
   "source": [
    "# Question 1"
   ]
  },
  {
   "cell_type": "code",
   "execution_count": 2,
   "id": "486c1cb8",
   "metadata": {},
   "outputs": [
    {
     "name": "stdout",
     "output_type": "stream",
     "text": [
      "[2002, 2009, 2016, 2023, 2037, 2044, 2051, 2058, 2072, 2079, 2086, 2093, 2107, 2114, 2121, 2128, 2142, 2149, 2156, 2163, 2177, 2184, 2191, 2198, 2212, 2219, 2226, 2233, 2247, 2254, 2261, 2268, 2282, 2289, 2296, 2303, 2317, 2324, 2331, 2338, 2352, 2359, 2366, 2373, 2387, 2394, 2401, 2408, 2422, 2429, 2436, 2443, 2457, 2464, 2471, 2478, 2492, 2499, 2506, 2513, 2527, 2534, 2541, 2548, 2562, 2569, 2576, 2583, 2597, 2604, 2611, 2618, 2632, 2639, 2646, 2653, 2667, 2674, 2681, 2688, 2702, 2709, 2716, 2723, 2737, 2744, 2751, 2758, 2772, 2779, 2786, 2793, 2807, 2814, 2821, 2828, 2842, 2849, 2856, 2863, 2877, 2884, 2891, 2898, 2912, 2919, 2926, 2933, 2947, 2954, 2961, 2968, 2982, 2989, 2996]\n"
     ]
    }
   ],
   "source": [
    "L=[]\n",
    "for i in range (2000,3001):\n",
    "    if (i%7==0) and (i%5!=0):\n",
    "        L.append(i)\n",
    "print(L)  "
   ]
  },
  {
   "cell_type": "markdown",
   "id": "c7a47998",
   "metadata": {},
   "source": [
    "# Question 2"
   ]
  },
  {
   "cell_type": "code",
   "execution_count": 9,
   "id": "dc843abb",
   "metadata": {},
   "outputs": [],
   "source": [
    "def factorial(n):\n",
    "    x=1\n",
    "    if n==0 or n==1:\n",
    "        return 1\n",
    "    else:\n",
    "        for i in range(2,n+1):\n",
    "            x*=i\n",
    "        return x"
   ]
  },
  {
   "cell_type": "markdown",
   "id": "35209157",
   "metadata": {},
   "source": [
    "# Question 3"
   ]
  },
  {
   "cell_type": "code",
   "execution_count": 10,
   "id": "1ffa1aaa",
   "metadata": {},
   "outputs": [
    {
     "name": "stdout",
     "output_type": "stream",
     "text": [
      "Write a number:8\n",
      "{1: 1, 2: 4, 3: 9, 4: 16, 5: 25, 6: 36, 7: 49, 8: 64}\n"
     ]
    }
   ],
   "source": [
    "n=int(input('Write a number:'))\n",
    "dict={}\n",
    "for i in range (1 , n+1):\n",
    "    dict[i]=i*i\n",
    "print(dict)    "
   ]
  },
  {
   "cell_type": "markdown",
   "id": "7214ed56",
   "metadata": {},
   "source": [
    "# Question 4"
   ]
  },
  {
   "cell_type": "code",
   "execution_count": 12,
   "id": "06c08aef",
   "metadata": {},
   "outputs": [
    {
     "name": "stdout",
     "output_type": "stream",
     "text": [
      "ktten\n"
     ]
    }
   ],
   "source": [
    "def missing_char(str, n):\n",
    "      x= str[:n] \n",
    "      y= str[n+1:]\n",
    "      return x + y\n",
    "print(missing_char('kitten',1))    "
   ]
  },
  {
   "cell_type": "markdown",
   "id": "3a85f50b",
   "metadata": {},
   "source": [
    "# Question 5"
   ]
  },
  {
   "cell_type": "code",
   "execution_count": 19,
   "id": "f0c2efc2",
   "metadata": {},
   "outputs": [
    {
     "name": "stdout",
     "output_type": "stream",
     "text": [
      "[[0 1]\n",
      " [2 3]\n",
      " [4 5]]\n",
      "[[0, 1], [2, 3], [4, 5]]\n"
     ]
    }
   ],
   "source": [
    "import numpy as np\n",
    "x=np.array([[0,1],[2,3],[4,5]])\n",
    "print(x)\n",
    "print(x.tolist())"
   ]
  },
  {
   "cell_type": "markdown",
   "id": "60c329ef",
   "metadata": {},
   "source": [
    "# Question 6"
   ]
  },
  {
   "cell_type": "code",
   "execution_count": 20,
   "id": "1e9edbf8",
   "metadata": {},
   "outputs": [
    {
     "name": "stdout",
     "output_type": "stream",
     "text": [
      "[[ 1. -1.]\n",
      " [-1.  1.]]\n"
     ]
    }
   ],
   "source": [
    "import numpy as np\n",
    "x=np.array([0,1,2])\n",
    "y=np.array([2,1,0])\n",
    "print(np.cov(x,y))"
   ]
  },
  {
   "cell_type": "markdown",
   "id": "8b16d279",
   "metadata": {},
   "source": [
    "# Question 7"
   ]
  },
  {
   "cell_type": "code",
   "execution_count": 24,
   "id": "24a7ece3",
   "metadata": {},
   "outputs": [
    {
     "name": "stdout",
     "output_type": "stream",
     "text": [
      "write the variable D: 100,150,180\n",
      "[18, 22, 24]\n"
     ]
    }
   ],
   "source": [
    "import math\n",
    "C=50\n",
    "H=30\n",
    "n=input('write the variable D: ')\n",
    "n=n.split(',')\n",
    "L=[]\n",
    "for D in n:\n",
    "    x=int(D)\n",
    "    s=round(math.sqrt((2*C*x)/H))\n",
    "    L.append(s)\n",
    "print(L)    "
   ]
  },
  {
   "cell_type": "code",
   "execution_count": null,
   "id": "b1f7f273",
   "metadata": {},
   "outputs": [],
   "source": []
  }
 ],
 "metadata": {
  "kernelspec": {
   "display_name": "Python 3",
   "language": "python",
   "name": "python3"
  },
  "language_info": {
   "codemirror_mode": {
    "name": "ipython",
    "version": 3
   },
   "file_extension": ".py",
   "mimetype": "text/x-python",
   "name": "python",
   "nbconvert_exporter": "python",
   "pygments_lexer": "ipython3",
   "version": "3.8.8"
  }
 },
 "nbformat": 4,
 "nbformat_minor": 5
}
