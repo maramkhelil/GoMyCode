{
 "cells": [
  {
   "cell_type": "code",
   "execution_count": 1,
   "id": "ce131f26",
   "metadata": {},
   "outputs": [],
   "source": [
    "import numpy as np \n",
    "\n",
    "import pandas as pd \n",
    "\n",
    "import seaborn as sns\n",
    "\n",
    "from matplotlib import pyplot as plt\n",
    "from matplotlib import style\n",
    "\n",
    "from sklearn.model_selection import train_test_split\n",
    "from sklearn import linear_model\n",
    "from sklearn.linear_model import LogisticRegression\n",
    "from sklearn.ensemble import RandomForestClassifier\n",
    "from sklearn.linear_model import Perceptron\n",
    "from sklearn.linear_model import SGDClassifier\n",
    "from sklearn.tree import DecisionTreeClassifier\n",
    "from sklearn.neighbors import KNeighborsClassifier\n",
    "from sklearn import metrics"
   ]
  },
  {
   "cell_type": "code",
   "execution_count": 2,
   "id": "0a6aed4a",
   "metadata": {},
   "outputs": [],
   "source": [
    "df=pd.read_csv('C:\\\\Users\\\\Maram\\\\Desktop\\\\GoMyCode\\\\titanic-passengers.csv', sep=';')"
   ]
  },
  {
   "cell_type": "code",
   "execution_count": 3,
   "id": "e671d917",
   "metadata": {},
   "outputs": [],
   "source": [
    "df['Cabin'].fillna('G6', inplace=True)"
   ]
  },
  {
   "cell_type": "code",
   "execution_count": 4,
   "id": "38f2118a",
   "metadata": {},
   "outputs": [],
   "source": [
    "from sklearn.preprocessing import LabelEncoder\n",
    "encoder=LabelEncoder()\n",
    "df['Survived']=encoder.fit_transform(df['Survived'])"
   ]
  },
  {
   "cell_type": "code",
   "execution_count": 5,
   "id": "501c4677",
   "metadata": {},
   "outputs": [],
   "source": [
    "from sklearn.preprocessing import LabelEncoder\n",
    "encoder=LabelEncoder()\n",
    "df['Sex']=encoder.fit_transform(df['Sex'])"
   ]
  },
  {
   "cell_type": "code",
   "execution_count": 6,
   "id": "956d1b7b",
   "metadata": {},
   "outputs": [
    {
     "data": {
      "text/plain": [
       "PassengerId      0\n",
       "Survived         0\n",
       "Pclass           0\n",
       "Name             0\n",
       "Sex              0\n",
       "Age            177\n",
       "SibSp            0\n",
       "Parch            0\n",
       "Ticket           0\n",
       "Fare             0\n",
       "Cabin            0\n",
       "Embarked         2\n",
       "dtype: int64"
      ]
     },
     "execution_count": 6,
     "metadata": {},
     "output_type": "execute_result"
    }
   ],
   "source": [
    "df.isnull().sum()"
   ]
  },
  {
   "cell_type": "code",
   "execution_count": 7,
   "id": "4cfc7139",
   "metadata": {},
   "outputs": [],
   "source": [
    "df['Embarked'].fillna('S', inplace=True)"
   ]
  },
  {
   "cell_type": "code",
   "execution_count": 8,
   "id": "6b6feeec",
   "metadata": {},
   "outputs": [
    {
     "name": "stdout",
     "output_type": "stream",
     "text": [
      "<class 'pandas.core.frame.DataFrame'>\n",
      "RangeIndex: 891 entries, 0 to 890\n",
      "Data columns (total 12 columns):\n",
      " #   Column       Non-Null Count  Dtype  \n",
      "---  ------       --------------  -----  \n",
      " 0   PassengerId  891 non-null    int64  \n",
      " 1   Survived     891 non-null    int32  \n",
      " 2   Pclass       891 non-null    int64  \n",
      " 3   Name         891 non-null    object \n",
      " 4   Sex          891 non-null    int32  \n",
      " 5   Age          714 non-null    float64\n",
      " 6   SibSp        891 non-null    int64  \n",
      " 7   Parch        891 non-null    int64  \n",
      " 8   Ticket       891 non-null    object \n",
      " 9   Fare         891 non-null    float64\n",
      " 10  Cabin        891 non-null    object \n",
      " 11  Embarked     891 non-null    object \n",
      "dtypes: float64(2), int32(2), int64(4), object(4)\n",
      "memory usage: 76.7+ KB\n"
     ]
    }
   ],
   "source": [
    "df.info()"
   ]
  },
  {
   "cell_type": "code",
   "execution_count": 9,
   "id": "5d726edd",
   "metadata": {},
   "outputs": [
    {
     "name": "stdout",
     "output_type": "stream",
     "text": [
      "Accuracy=0.83\n"
     ]
    }
   ],
   "source": [
    "from sklearn.model_selection import train_test_split\n",
    "from sklearn.linear_model import LogisticRegression\n",
    "from sklearn import metrics\n",
    "\n",
    "x = df[['Sex','Pclass']]\n",
    "y = df['Survived']\n",
    "\n",
    "x_train,x_test,y_train,y_test = train_test_split(x,y,test_size=0.25,random_state=0)  \n",
    "\n",
    "logreg = LogisticRegression()   \n",
    "logreg.fit(x_train, y_train)  \n",
    "y_pred  = logreg.predict(x_test)   \n",
    "print(\"Accuracy={:.2f}\".format(logreg.score(x_test, y_test)))"
   ]
  },
  {
   "cell_type": "code",
   "execution_count": 10,
   "id": "ac1739ff",
   "metadata": {},
   "outputs": [
    {
     "data": {
      "text/plain": [
       "105    False\n",
       "68     False\n",
       "253    False\n",
       "320    False\n",
       "706    False\n",
       "       ...  \n",
       "835    False\n",
       "192    False\n",
       "629    False\n",
       "559    False\n",
       "684    False\n",
       "Name: Survived, Length: 668, dtype: bool"
      ]
     },
     "execution_count": 10,
     "metadata": {},
     "output_type": "execute_result"
    }
   ],
   "source": [
    "np.isnan(x_train)\n",
    "np.isnan(y_train)"
   ]
  },
  {
   "cell_type": "code",
   "execution_count": 11,
   "id": "1035366d",
   "metadata": {},
   "outputs": [],
   "source": [
    "from sklearn.model_selection import train_test_split\n",
    "from sklearn import tree   \n",
    "from sklearn.tree import DecisionTreeClassifier\n",
    "from sklearn.metrics import accuracy_score"
   ]
  },
  {
   "cell_type": "code",
   "execution_count": 12,
   "id": "982e2e21",
   "metadata": {},
   "outputs": [
    {
     "name": "stdout",
     "output_type": "stream",
     "text": [
      "score:0.8026905829596412\n"
     ]
    }
   ],
   "source": [
    "model = tree.DecisionTreeClassifier()  \n",
    "model.fit(x_train, y_train)   #fitting our model\n",
    "y_pred=model.predict(x_test)   # evaluating our model\n",
    "print(\"score:{}\".format(accuracy_score(y_test, y_pred)))"
   ]
  },
  {
   "cell_type": "code",
   "execution_count": 13,
   "id": "f1d44a8b",
   "metadata": {},
   "outputs": [],
   "source": [
    "clf=DecisionTreeClassifier()\n",
    "clf = clf.fit(x_train,y_train)\n"
   ]
  },
  {
   "cell_type": "code",
   "execution_count": 14,
   "id": "58b68b8a",
   "metadata": {},
   "outputs": [],
   "source": [
    "import graphviz"
   ]
  },
  {
   "cell_type": "code",
   "execution_count": 15,
   "id": "0b929b50",
   "metadata": {},
   "outputs": [
    {
     "data": {
      "image/svg+xml": [
       "<?xml version=\"1.0\" encoding=\"UTF-8\" standalone=\"no\"?>\r\n",
       "<!DOCTYPE svg PUBLIC \"-//W3C//DTD SVG 1.1//EN\"\r\n",
       " \"http://www.w3.org/Graphics/SVG/1.1/DTD/svg11.dtd\">\r\n",
       "<!-- Generated by graphviz version 2.38.0 (20140413.2041)\r\n",
       " -->\r\n",
       "<!-- Title: Tree Pages: 1 -->\r\n",
       "<svg width=\"607pt\" height=\"373pt\"\r\n",
       " viewBox=\"0.00 0.00 606.50 373.00\" xmlns=\"http://www.w3.org/2000/svg\" xmlns:xlink=\"http://www.w3.org/1999/xlink\">\r\n",
       "<g id=\"graph0\" class=\"graph\" transform=\"scale(1 1) rotate(0) translate(4 369)\">\r\n",
       "<title>Tree</title>\r\n",
       "<polygon fill=\"white\" stroke=\"none\" points=\"-4,4 -4,-369 602.5,-369 602.5,4 -4,4\"/>\r\n",
       "<!-- 0 -->\r\n",
       "<g id=\"node1\" class=\"node\"><title>0</title>\r\n",
       "<polygon fill=\"none\" stroke=\"black\" points=\"350,-365 232,-365 232,-297 350,-297 350,-365\"/>\r\n",
       "<text text-anchor=\"middle\" x=\"291\" y=\"-349.8\" font-family=\"Times New Roman,serif\" font-size=\"14.00\">X[0] &lt;= 0.5</text>\r\n",
       "<text text-anchor=\"middle\" x=\"291\" y=\"-334.8\" font-family=\"Times New Roman,serif\" font-size=\"14.00\">gini = 0.477</text>\r\n",
       "<text text-anchor=\"middle\" x=\"291\" y=\"-319.8\" font-family=\"Times New Roman,serif\" font-size=\"14.00\">samples = 668</text>\r\n",
       "<text text-anchor=\"middle\" x=\"291\" y=\"-304.8\" font-family=\"Times New Roman,serif\" font-size=\"14.00\">value = [405, 263]</text>\r\n",
       "</g>\r\n",
       "<!-- 1 -->\r\n",
       "<g id=\"node2\" class=\"node\"><title>1</title>\r\n",
       "<polygon fill=\"none\" stroke=\"black\" points=\"282.5,-261 171.5,-261 171.5,-193 282.5,-193 282.5,-261\"/>\r\n",
       "<text text-anchor=\"middle\" x=\"227\" y=\"-245.8\" font-family=\"Times New Roman,serif\" font-size=\"14.00\">X[1] &lt;= 2.5</text>\r\n",
       "<text text-anchor=\"middle\" x=\"227\" y=\"-230.8\" font-family=\"Times New Roman,serif\" font-size=\"14.00\">gini = 0.395</text>\r\n",
       "<text text-anchor=\"middle\" x=\"227\" y=\"-215.8\" font-family=\"Times New Roman,serif\" font-size=\"14.00\">samples = 244</text>\r\n",
       "<text text-anchor=\"middle\" x=\"227\" y=\"-200.8\" font-family=\"Times New Roman,serif\" font-size=\"14.00\">value = [66, 178]</text>\r\n",
       "</g>\r\n",
       "<!-- 0&#45;&gt;1 -->\r\n",
       "<g id=\"edge1\" class=\"edge\"><title>0&#45;&gt;1</title>\r\n",
       "<path fill=\"none\" stroke=\"black\" d=\"M270.221,-296.884C264.8,-288.243 258.887,-278.819 253.223,-269.793\"/>\r\n",
       "<polygon fill=\"black\" stroke=\"black\" points=\"256.173,-267.91 247.894,-261.299 250.244,-271.63 256.173,-267.91\"/>\r\n",
       "<text text-anchor=\"middle\" x=\"242.315\" y=\"-281.969\" font-family=\"Times New Roman,serif\" font-size=\"14.00\">True</text>\r\n",
       "</g>\r\n",
       "<!-- 6 -->\r\n",
       "<g id=\"node7\" class=\"node\"><title>6</title>\r\n",
       "<polygon fill=\"none\" stroke=\"black\" points=\"411.5,-261 300.5,-261 300.5,-193 411.5,-193 411.5,-261\"/>\r\n",
       "<text text-anchor=\"middle\" x=\"356\" y=\"-245.8\" font-family=\"Times New Roman,serif\" font-size=\"14.00\">X[1] &lt;= 1.5</text>\r\n",
       "<text text-anchor=\"middle\" x=\"356\" y=\"-230.8\" font-family=\"Times New Roman,serif\" font-size=\"14.00\">gini = 0.321</text>\r\n",
       "<text text-anchor=\"middle\" x=\"356\" y=\"-215.8\" font-family=\"Times New Roman,serif\" font-size=\"14.00\">samples = 424</text>\r\n",
       "<text text-anchor=\"middle\" x=\"356\" y=\"-200.8\" font-family=\"Times New Roman,serif\" font-size=\"14.00\">value = [339, 85]</text>\r\n",
       "</g>\r\n",
       "<!-- 0&#45;&gt;6 -->\r\n",
       "<g id=\"edge6\" class=\"edge\"><title>0&#45;&gt;6</title>\r\n",
       "<path fill=\"none\" stroke=\"black\" d=\"M312.104,-296.884C317.61,-288.243 323.615,-278.819 329.367,-269.793\"/>\r\n",
       "<polygon fill=\"black\" stroke=\"black\" points=\"332.357,-271.614 334.78,-261.299 326.454,-267.852 332.357,-271.614\"/>\r\n",
       "<text text-anchor=\"middle\" x=\"340.188\" y=\"-282.007\" font-family=\"Times New Roman,serif\" font-size=\"14.00\">False</text>\r\n",
       "</g>\r\n",
       "<!-- 2 -->\r\n",
       "<g id=\"node3\" class=\"node\"><title>2</title>\r\n",
       "<polygon fill=\"none\" stroke=\"black\" points=\"159,-157 55,-157 55,-89 159,-89 159,-157\"/>\r\n",
       "<text text-anchor=\"middle\" x=\"107\" y=\"-141.8\" font-family=\"Times New Roman,serif\" font-size=\"14.00\">X[1] &lt;= 1.5</text>\r\n",
       "<text text-anchor=\"middle\" x=\"107\" y=\"-126.8\" font-family=\"Times New Roman,serif\" font-size=\"14.00\">gini = 0.113</text>\r\n",
       "<text text-anchor=\"middle\" x=\"107\" y=\"-111.8\" font-family=\"Times New Roman,serif\" font-size=\"14.00\">samples = 133</text>\r\n",
       "<text text-anchor=\"middle\" x=\"107\" y=\"-96.8\" font-family=\"Times New Roman,serif\" font-size=\"14.00\">value = [8, 125]</text>\r\n",
       "</g>\r\n",
       "<!-- 1&#45;&gt;2 -->\r\n",
       "<g id=\"edge2\" class=\"edge\"><title>1&#45;&gt;2</title>\r\n",
       "<path fill=\"none\" stroke=\"black\" d=\"M188.039,-192.884C177.141,-183.62 165.182,-173.455 153.877,-163.845\"/>\r\n",
       "<polygon fill=\"black\" stroke=\"black\" points=\"156.062,-161.109 146.176,-157.299 151.528,-166.443 156.062,-161.109\"/>\r\n",
       "</g>\r\n",
       "<!-- 5 -->\r\n",
       "<g id=\"node6\" class=\"node\"><title>5</title>\r\n",
       "<polygon fill=\"none\" stroke=\"black\" points=\"281,-149.5 177,-149.5 177,-96.5 281,-96.5 281,-149.5\"/>\r\n",
       "<text text-anchor=\"middle\" x=\"229\" y=\"-134.3\" font-family=\"Times New Roman,serif\" font-size=\"14.00\">gini = 0.499</text>\r\n",
       "<text text-anchor=\"middle\" x=\"229\" y=\"-119.3\" font-family=\"Times New Roman,serif\" font-size=\"14.00\">samples = 111</text>\r\n",
       "<text text-anchor=\"middle\" x=\"229\" y=\"-104.3\" font-family=\"Times New Roman,serif\" font-size=\"14.00\">value = [58, 53]</text>\r\n",
       "</g>\r\n",
       "<!-- 1&#45;&gt;5 -->\r\n",
       "<g id=\"edge5\" class=\"edge\"><title>1&#45;&gt;5</title>\r\n",
       "<path fill=\"none\" stroke=\"black\" d=\"M227.649,-192.884C227.859,-182.216 228.091,-170.352 228.304,-159.519\"/>\r\n",
       "<polygon fill=\"black\" stroke=\"black\" points=\"231.803,-159.587 228.5,-149.52 224.804,-159.449 231.803,-159.587\"/>\r\n",
       "</g>\r\n",
       "<!-- 3 -->\r\n",
       "<g id=\"node4\" class=\"node\"><title>3</title>\r\n",
       "<polygon fill=\"none\" stroke=\"black\" points=\"98,-53 0,-53 0,-0 98,-0 98,-53\"/>\r\n",
       "<text text-anchor=\"middle\" x=\"49\" y=\"-37.8\" font-family=\"Times New Roman,serif\" font-size=\"14.00\">gini = 0.053</text>\r\n",
       "<text text-anchor=\"middle\" x=\"49\" y=\"-22.8\" font-family=\"Times New Roman,serif\" font-size=\"14.00\">samples = 73</text>\r\n",
       "<text text-anchor=\"middle\" x=\"49\" y=\"-7.8\" font-family=\"Times New Roman,serif\" font-size=\"14.00\">value = [2, 71]</text>\r\n",
       "</g>\r\n",
       "<!-- 2&#45;&gt;3 -->\r\n",
       "<g id=\"edge3\" class=\"edge\"><title>2&#45;&gt;3</title>\r\n",
       "<path fill=\"none\" stroke=\"black\" d=\"M86.7144,-88.9485C81.3244,-80.1664 75.4915,-70.6629 70.0611,-61.815\"/>\r\n",
       "<polygon fill=\"black\" stroke=\"black\" points=\"73.01,-59.9287 64.7961,-53.2367 67.0441,-63.5903 73.01,-59.9287\"/>\r\n",
       "</g>\r\n",
       "<!-- 4 -->\r\n",
       "<g id=\"node5\" class=\"node\"><title>4</title>\r\n",
       "<polygon fill=\"none\" stroke=\"black\" points=\"214,-53 116,-53 116,-0 214,-0 214,-53\"/>\r\n",
       "<text text-anchor=\"middle\" x=\"165\" y=\"-37.8\" font-family=\"Times New Roman,serif\" font-size=\"14.00\">gini = 0.18</text>\r\n",
       "<text text-anchor=\"middle\" x=\"165\" y=\"-22.8\" font-family=\"Times New Roman,serif\" font-size=\"14.00\">samples = 60</text>\r\n",
       "<text text-anchor=\"middle\" x=\"165\" y=\"-7.8\" font-family=\"Times New Roman,serif\" font-size=\"14.00\">value = [6, 54]</text>\r\n",
       "</g>\r\n",
       "<!-- 2&#45;&gt;4 -->\r\n",
       "<g id=\"edge4\" class=\"edge\"><title>2&#45;&gt;4</title>\r\n",
       "<path fill=\"none\" stroke=\"black\" d=\"M127.286,-88.9485C132.676,-80.1664 138.508,-70.6629 143.939,-61.815\"/>\r\n",
       "<polygon fill=\"black\" stroke=\"black\" points=\"146.956,-63.5903 149.204,-53.2367 140.99,-59.9287 146.956,-63.5903\"/>\r\n",
       "</g>\r\n",
       "<!-- 7 -->\r\n",
       "<g id=\"node8\" class=\"node\"><title>7</title>\r\n",
       "<polygon fill=\"none\" stroke=\"black\" points=\"406,-149.5 302,-149.5 302,-96.5 406,-96.5 406,-149.5\"/>\r\n",
       "<text text-anchor=\"middle\" x=\"354\" y=\"-134.3\" font-family=\"Times New Roman,serif\" font-size=\"14.00\">gini = 0.487</text>\r\n",
       "<text text-anchor=\"middle\" x=\"354\" y=\"-119.3\" font-family=\"Times New Roman,serif\" font-size=\"14.00\">samples = 88</text>\r\n",
       "<text text-anchor=\"middle\" x=\"354\" y=\"-104.3\" font-family=\"Times New Roman,serif\" font-size=\"14.00\">value = [51, 37]</text>\r\n",
       "</g>\r\n",
       "<!-- 6&#45;&gt;7 -->\r\n",
       "<g id=\"edge7\" class=\"edge\"><title>6&#45;&gt;7</title>\r\n",
       "<path fill=\"none\" stroke=\"black\" d=\"M355.351,-192.884C355.141,-182.216 354.909,-170.352 354.696,-159.519\"/>\r\n",
       "<polygon fill=\"black\" stroke=\"black\" points=\"358.196,-159.449 354.5,-149.52 351.197,-159.587 358.196,-159.449\"/>\r\n",
       "</g>\r\n",
       "<!-- 8 -->\r\n",
       "<g id=\"node9\" class=\"node\"><title>8</title>\r\n",
       "<polygon fill=\"none\" stroke=\"black\" points=\"535.5,-157 424.5,-157 424.5,-89 535.5,-89 535.5,-157\"/>\r\n",
       "<text text-anchor=\"middle\" x=\"480\" y=\"-141.8\" font-family=\"Times New Roman,serif\" font-size=\"14.00\">X[1] &lt;= 2.5</text>\r\n",
       "<text text-anchor=\"middle\" x=\"480\" y=\"-126.8\" font-family=\"Times New Roman,serif\" font-size=\"14.00\">gini = 0.245</text>\r\n",
       "<text text-anchor=\"middle\" x=\"480\" y=\"-111.8\" font-family=\"Times New Roman,serif\" font-size=\"14.00\">samples = 336</text>\r\n",
       "<text text-anchor=\"middle\" x=\"480\" y=\"-96.8\" font-family=\"Times New Roman,serif\" font-size=\"14.00\">value = [288, 48]</text>\r\n",
       "</g>\r\n",
       "<!-- 6&#45;&gt;8 -->\r\n",
       "<g id=\"edge8\" class=\"edge\"><title>6&#45;&gt;8</title>\r\n",
       "<path fill=\"none\" stroke=\"black\" d=\"M396.259,-192.884C407.521,-183.62 419.878,-173.455 431.56,-163.845\"/>\r\n",
       "<polygon fill=\"black\" stroke=\"black\" points=\"434.019,-166.355 439.518,-157.299 429.572,-160.949 434.019,-166.355\"/>\r\n",
       "</g>\r\n",
       "<!-- 9 -->\r\n",
       "<g id=\"node10\" class=\"node\"><title>9</title>\r\n",
       "<polygon fill=\"none\" stroke=\"black\" points=\"469,-53 365,-53 365,-0 469,-0 469,-53\"/>\r\n",
       "<text text-anchor=\"middle\" x=\"417\" y=\"-37.8\" font-family=\"Times New Roman,serif\" font-size=\"14.00\">gini = 0.314</text>\r\n",
       "<text text-anchor=\"middle\" x=\"417\" y=\"-22.8\" font-family=\"Times New Roman,serif\" font-size=\"14.00\">samples = 77</text>\r\n",
       "<text text-anchor=\"middle\" x=\"417\" y=\"-7.8\" font-family=\"Times New Roman,serif\" font-size=\"14.00\">value = [62, 15]</text>\r\n",
       "</g>\r\n",
       "<!-- 8&#45;&gt;9 -->\r\n",
       "<g id=\"edge9\" class=\"edge\"><title>8&#45;&gt;9</title>\r\n",
       "<path fill=\"none\" stroke=\"black\" d=\"M457.966,-88.9485C452.111,-80.1664 445.775,-70.6629 439.877,-61.815\"/>\r\n",
       "<polygon fill=\"black\" stroke=\"black\" points=\"442.617,-59.6158 434.158,-53.2367 436.793,-63.4987 442.617,-59.6158\"/>\r\n",
       "</g>\r\n",
       "<!-- 10 -->\r\n",
       "<g id=\"node11\" class=\"node\"><title>10</title>\r\n",
       "<polygon fill=\"none\" stroke=\"black\" points=\"598.5,-53 487.5,-53 487.5,-0 598.5,-0 598.5,-53\"/>\r\n",
       "<text text-anchor=\"middle\" x=\"543\" y=\"-37.8\" font-family=\"Times New Roman,serif\" font-size=\"14.00\">gini = 0.222</text>\r\n",
       "<text text-anchor=\"middle\" x=\"543\" y=\"-22.8\" font-family=\"Times New Roman,serif\" font-size=\"14.00\">samples = 259</text>\r\n",
       "<text text-anchor=\"middle\" x=\"543\" y=\"-7.8\" font-family=\"Times New Roman,serif\" font-size=\"14.00\">value = [226, 33]</text>\r\n",
       "</g>\r\n",
       "<!-- 8&#45;&gt;10 -->\r\n",
       "<g id=\"edge10\" class=\"edge\"><title>8&#45;&gt;10</title>\r\n",
       "<path fill=\"none\" stroke=\"black\" d=\"M502.034,-88.9485C507.889,-80.1664 514.225,-70.6629 520.123,-61.815\"/>\r\n",
       "<polygon fill=\"black\" stroke=\"black\" points=\"523.207,-63.4987 525.842,-53.2367 517.383,-59.6158 523.207,-63.4987\"/>\r\n",
       "</g>\r\n",
       "</g>\r\n",
       "</svg>\r\n"
      ],
      "text/plain": [
       "<graphviz.files.Source at 0x18f7cec8fa0>"
      ]
     },
     "execution_count": 15,
     "metadata": {},
     "output_type": "execute_result"
    }
   ],
   "source": [
    "data=tree.export_graphviz(clf, out_file=None)\n",
    "graph=graphviz.Source(data)\n",
    "graph.render('df')\n",
    "graph"
   ]
  },
  {
   "cell_type": "code",
   "execution_count": 16,
   "id": "8d5454f8",
   "metadata": {},
   "outputs": [],
   "source": [
    "dtree=tree.DecisionTreeClassifier(criterion='gini',splitter='random',max_leaf_nodes=10,min_samples_leaf=5,max_depth=5)"
   ]
  },
  {
   "cell_type": "code",
   "execution_count": 18,
   "id": "4c1b7090",
   "metadata": {},
   "outputs": [
    {
     "name": "stdout",
     "output_type": "stream",
     "text": [
      "78.14 %\n"
     ]
    }
   ],
   "source": [
    "random_forest = RandomForestClassifier(n_estimators=100, oob_score = True)\n",
    "random_forest.fit(x_train, y_train)\n",
    "Y_prediction = random_forest.predict(x_test)\n",
    "\n",
    "random_forest.score(x_train, y_train)\n",
    "\n",
    "acc_random_forest = round(random_forest.score(x_train, y_train) * 100, 2)\n",
    "print(round(acc_random_forest,2,), \"%\")"
   ]
  },
  {
   "cell_type": "code",
   "execution_count": null,
   "id": "d63ad0e2",
   "metadata": {},
   "outputs": [],
   "source": []
  }
 ],
 "metadata": {
  "kernelspec": {
   "display_name": "Python 3",
   "language": "python",
   "name": "python3"
  },
  "language_info": {
   "codemirror_mode": {
    "name": "ipython",
    "version": 3
   },
   "file_extension": ".py",
   "mimetype": "text/x-python",
   "name": "python",
   "nbconvert_exporter": "python",
   "pygments_lexer": "ipython3",
   "version": "3.8.8"
  }
 },
 "nbformat": 4,
 "nbformat_minor": 5
}
