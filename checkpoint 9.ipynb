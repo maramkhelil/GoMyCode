{
 "cells": [
  {
   "cell_type": "code",
   "execution_count": 1,
   "id": "7a8a4b36",
   "metadata": {},
   "outputs": [],
   "source": [
    "dataset = [['Skirt', 'Sneakers', 'Scarf', 'Pants', 'Hat'],\n",
    "\n",
    "    ['Sunglasses', 'Skirt', 'Sneakers', 'Pants', 'Hat'],\n",
    "\n",
    "    ['Dress', 'Sandals', 'Scarf', 'Pants', 'Heels'],\n",
    "\n",
    "    ['Dress', 'Necklace', 'Earrings', 'Scarf', 'Hat', 'Heels', 'Hat'],\n",
    "\n",
    "   ['Earrings', 'Skirt', 'Skirt', 'Scarf', 'Shirt', 'Pants']]"
   ]
  },
  {
   "cell_type": "code",
   "execution_count": 4,
   "id": "03f5cb92",
   "metadata": {},
   "outputs": [
    {
     "name": "stdout",
     "output_type": "stream",
     "text": [
      "Collecting apyori\n",
      "  Downloading apyori-1.1.2.tar.gz (8.6 kB)\n",
      "Building wheels for collected packages: apyori\n",
      "  Building wheel for apyori (setup.py): started\n",
      "  Building wheel for apyori (setup.py): finished with status 'done'\n",
      "  Created wheel for apyori: filename=apyori-1.1.2-py3-none-any.whl size=5975 sha256=c79fd93212364be21411149f0527418700e7c068b55c152c6b135d20850433db\n",
      "  Stored in directory: c:\\users\\maram\\appdata\\local\\pip\\cache\\wheels\\1b\\02\\6c\\a45230be8603bd95c0a51cd2b289aefdd860c1a100eab73661\n",
      "Successfully built apyori\n",
      "Installing collected packages: apyori\n",
      "Successfully installed apyori-1.1.2\n",
      "Note: you may need to restart the kernel to use updated packages.\n"
     ]
    }
   ],
   "source": [
    "pip install apyori"
   ]
  },
  {
   "cell_type": "code",
   "execution_count": 5,
   "id": "649f39b9",
   "metadata": {},
   "outputs": [],
   "source": [
    "import numpy as np\n",
    "import matplotlib.pyplot as plt\n",
    "import pandas as pd\n",
    "from apyori import apriori"
   ]
  },
  {
   "cell_type": "code",
   "execution_count": 6,
   "id": "36dccdb1",
   "metadata": {},
   "outputs": [],
   "source": [
    "rules = apriori(dataset, min_support = 0.003, min_confidence = 0.2, min_lift = 3, min_length = 2)"
   ]
  },
  {
   "cell_type": "code",
   "execution_count": 7,
   "id": "ad4b5269",
   "metadata": {},
   "outputs": [
    {
     "name": "stdout",
     "output_type": "stream",
     "text": [
      "[RelationRecord(items=frozenset({'Earrings', 'Dress', 'Necklace'}), support=0.2, ordered_statistics=[OrderedStatistic(items_base=frozenset({'Necklace'}), items_add=frozenset({'Earrings', 'Dress'}), confidence=1.0, lift=5.0), OrderedStatistic(items_base=frozenset({'Earrings', 'Dress'}), items_add=frozenset({'Necklace'}), confidence=1.0, lift=5.0)]), RelationRecord(items=frozenset({'Dress', 'Hat', 'Necklace'}), support=0.2, ordered_statistics=[OrderedStatistic(items_base=frozenset({'Necklace'}), items_add=frozenset({'Dress', 'Hat'}), confidence=1.0, lift=5.0), OrderedStatistic(items_base=frozenset({'Dress', 'Hat'}), items_add=frozenset({'Necklace'}), confidence=1.0, lift=5.0)]), RelationRecord(items=frozenset({'Dress', 'Pants', 'Sandals'}), support=0.2, ordered_statistics=[OrderedStatistic(items_base=frozenset({'Sandals'}), items_add=frozenset({'Dress', 'Pants'}), confidence=1.0, lift=5.0), OrderedStatistic(items_base=frozenset({'Dress', 'Pants'}), items_add=frozenset({'Sandals'}), confidence=1.0, lift=5.0)]), RelationRecord(items=frozenset({'Earrings', 'Hat', 'Necklace'}), support=0.2, ordered_statistics=[OrderedStatistic(items_base=frozenset({'Necklace'}), items_add=frozenset({'Earrings', 'Hat'}), confidence=1.0, lift=5.0), OrderedStatistic(items_base=frozenset({'Earrings', 'Hat'}), items_add=frozenset({'Necklace'}), confidence=1.0, lift=5.0)]), RelationRecord(items=frozenset({'Earrings', 'Heels', 'Necklace'}), support=0.2, ordered_statistics=[OrderedStatistic(items_base=frozenset({'Necklace'}), items_add=frozenset({'Earrings', 'Heels'}), confidence=1.0, lift=5.0), OrderedStatistic(items_base=frozenset({'Earrings', 'Heels'}), items_add=frozenset({'Necklace'}), confidence=1.0, lift=5.0)]), RelationRecord(items=frozenset({'Earrings', 'Shirt', 'Pants'}), support=0.2, ordered_statistics=[OrderedStatistic(items_base=frozenset({'Shirt'}), items_add=frozenset({'Earrings', 'Pants'}), confidence=1.0, lift=5.0), OrderedStatistic(items_base=frozenset({'Earrings', 'Pants'}), items_add=frozenset({'Shirt'}), confidence=1.0, lift=5.0)]), RelationRecord(items=frozenset({'Skirt', 'Earrings', 'Shirt'}), support=0.2, ordered_statistics=[OrderedStatistic(items_base=frozenset({'Shirt'}), items_add=frozenset({'Skirt', 'Earrings'}), confidence=1.0, lift=5.0), OrderedStatistic(items_base=frozenset({'Skirt', 'Earrings'}), items_add=frozenset({'Shirt'}), confidence=1.0, lift=5.0)]), RelationRecord(items=frozenset({'Heels', 'Hat', 'Necklace'}), support=0.2, ordered_statistics=[OrderedStatistic(items_base=frozenset({'Necklace'}), items_add=frozenset({'Heels', 'Hat'}), confidence=1.0, lift=5.0), OrderedStatistic(items_base=frozenset({'Heels', 'Hat'}), items_add=frozenset({'Necklace'}), confidence=1.0, lift=5.0)]), RelationRecord(items=frozenset({'Heels', 'Pants', 'Sandals'}), support=0.2, ordered_statistics=[OrderedStatistic(items_base=frozenset({'Sandals'}), items_add=frozenset({'Heels', 'Pants'}), confidence=1.0, lift=5.0), OrderedStatistic(items_base=frozenset({'Heels', 'Pants'}), items_add=frozenset({'Sandals'}), confidence=1.0, lift=5.0)]), RelationRecord(items=frozenset({'Heels', 'Earrings', 'Dress', 'Hat'}), support=0.2, ordered_statistics=[OrderedStatistic(items_base=frozenset({'Earrings', 'Dress'}), items_add=frozenset({'Heels', 'Hat'}), confidence=1.0, lift=5.0), OrderedStatistic(items_base=frozenset({'Dress', 'Hat'}), items_add=frozenset({'Earrings', 'Heels'}), confidence=1.0, lift=5.0), OrderedStatistic(items_base=frozenset({'Earrings', 'Heels'}), items_add=frozenset({'Dress', 'Hat'}), confidence=1.0, lift=5.0), OrderedStatistic(items_base=frozenset({'Heels', 'Hat'}), items_add=frozenset({'Earrings', 'Dress'}), confidence=1.0, lift=5.0)]), RelationRecord(items=frozenset({'Earrings', 'Dress', 'Hat', 'Necklace'}), support=0.2, ordered_statistics=[OrderedStatistic(items_base=frozenset({'Necklace'}), items_add=frozenset({'Earrings', 'Dress', 'Hat'}), confidence=1.0, lift=5.0), OrderedStatistic(items_base=frozenset({'Earrings', 'Dress'}), items_add=frozenset({'Hat', 'Necklace'}), confidence=1.0, lift=5.0), OrderedStatistic(items_base=frozenset({'Dress', 'Hat'}), items_add=frozenset({'Earrings', 'Necklace'}), confidence=1.0, lift=5.0), OrderedStatistic(items_base=frozenset({'Dress', 'Necklace'}), items_add=frozenset({'Earrings', 'Hat'}), confidence=1.0, lift=5.0), OrderedStatistic(items_base=frozenset({'Earrings', 'Hat'}), items_add=frozenset({'Dress', 'Necklace'}), confidence=1.0, lift=5.0), OrderedStatistic(items_base=frozenset({'Earrings', 'Necklace'}), items_add=frozenset({'Dress', 'Hat'}), confidence=1.0, lift=5.0), OrderedStatistic(items_base=frozenset({'Hat', 'Necklace'}), items_add=frozenset({'Earrings', 'Dress'}), confidence=1.0, lift=5.0), OrderedStatistic(items_base=frozenset({'Earrings', 'Dress', 'Hat'}), items_add=frozenset({'Necklace'}), confidence=1.0, lift=5.0)]), RelationRecord(items=frozenset({'Earrings', 'Dress', 'Heels', 'Necklace'}), support=0.2, ordered_statistics=[OrderedStatistic(items_base=frozenset({'Necklace'}), items_add=frozenset({'Earrings', 'Dress', 'Heels'}), confidence=1.0, lift=5.0), OrderedStatistic(items_base=frozenset({'Earrings', 'Dress'}), items_add=frozenset({'Heels', 'Necklace'}), confidence=1.0, lift=5.0), OrderedStatistic(items_base=frozenset({'Dress', 'Necklace'}), items_add=frozenset({'Earrings', 'Heels'}), confidence=1.0, lift=5.0), OrderedStatistic(items_base=frozenset({'Earrings', 'Heels'}), items_add=frozenset({'Dress', 'Necklace'}), confidence=1.0, lift=5.0), OrderedStatistic(items_base=frozenset({'Heels', 'Necklace'}), items_add=frozenset({'Earrings', 'Dress'}), confidence=1.0, lift=5.0), OrderedStatistic(items_base=frozenset({'Earrings', 'Dress', 'Heels'}), items_add=frozenset({'Necklace'}), confidence=1.0, lift=5.0)]), RelationRecord(items=frozenset({'Earrings', 'Scarf', 'Dress', 'Necklace'}), support=0.2, ordered_statistics=[OrderedStatistic(items_base=frozenset({'Necklace'}), items_add=frozenset({'Earrings', 'Scarf', 'Dress'}), confidence=1.0, lift=5.0), OrderedStatistic(items_base=frozenset({'Earrings', 'Dress'}), items_add=frozenset({'Scarf', 'Necklace'}), confidence=1.0, lift=5.0), OrderedStatistic(items_base=frozenset({'Scarf', 'Necklace'}), items_add=frozenset({'Earrings', 'Dress'}), confidence=1.0, lift=5.0), OrderedStatistic(items_base=frozenset({'Earrings', 'Scarf', 'Dress'}), items_add=frozenset({'Necklace'}), confidence=1.0, lift=5.0)]), RelationRecord(items=frozenset({'Heels', 'Dress', 'Hat', 'Necklace'}), support=0.2, ordered_statistics=[OrderedStatistic(items_base=frozenset({'Necklace'}), items_add=frozenset({'Dress', 'Heels', 'Hat'}), confidence=1.0, lift=5.0), OrderedStatistic(items_base=frozenset({'Dress', 'Hat'}), items_add=frozenset({'Heels', 'Necklace'}), confidence=1.0, lift=5.0), OrderedStatistic(items_base=frozenset({'Dress', 'Necklace'}), items_add=frozenset({'Heels', 'Hat'}), confidence=1.0, lift=5.0), OrderedStatistic(items_base=frozenset({'Heels', 'Hat'}), items_add=frozenset({'Dress', 'Necklace'}), confidence=1.0, lift=5.0), OrderedStatistic(items_base=frozenset({'Heels', 'Necklace'}), items_add=frozenset({'Dress', 'Hat'}), confidence=1.0, lift=5.0), OrderedStatistic(items_base=frozenset({'Heels', 'Dress', 'Hat'}), items_add=frozenset({'Necklace'}), confidence=1.0, lift=5.0)]), RelationRecord(items=frozenset({'Scarf', 'Dress', 'Hat', 'Necklace'}), support=0.2, ordered_statistics=[OrderedStatistic(items_base=frozenset({'Necklace'}), items_add=frozenset({'Scarf', 'Dress', 'Hat'}), confidence=1.0, lift=5.0), OrderedStatistic(items_base=frozenset({'Dress', 'Hat'}), items_add=frozenset({'Scarf', 'Necklace'}), confidence=1.0, lift=5.0), OrderedStatistic(items_base=frozenset({'Scarf', 'Necklace'}), items_add=frozenset({'Dress', 'Hat'}), confidence=1.0, lift=5.0), OrderedStatistic(items_base=frozenset({'Scarf', 'Dress', 'Hat'}), items_add=frozenset({'Necklace'}), confidence=1.0, lift=5.0)]), RelationRecord(items=frozenset({'Dress', 'Heels', 'Pants', 'Sandals'}), support=0.2, ordered_statistics=[OrderedStatistic(items_base=frozenset({'Sandals'}), items_add=frozenset({'Dress', 'Heels', 'Pants'}), confidence=1.0, lift=5.0), OrderedStatistic(items_base=frozenset({'Dress', 'Pants'}), items_add=frozenset({'Heels', 'Sandals'}), confidence=1.0, lift=5.0), OrderedStatistic(items_base=frozenset({'Dress', 'Sandals'}), items_add=frozenset({'Heels', 'Pants'}), confidence=1.0, lift=5.0), OrderedStatistic(items_base=frozenset({'Heels', 'Pants'}), items_add=frozenset({'Dress', 'Sandals'}), confidence=1.0, lift=5.0), OrderedStatistic(items_base=frozenset({'Heels', 'Sandals'}), items_add=frozenset({'Dress', 'Pants'}), confidence=1.0, lift=5.0), OrderedStatistic(items_base=frozenset({'Dress', 'Heels', 'Pants'}), items_add=frozenset({'Sandals'}), confidence=1.0, lift=5.0)]), RelationRecord(items=frozenset({'Scarf', 'Dress', 'Pants', 'Sandals'}), support=0.2, ordered_statistics=[OrderedStatistic(items_base=frozenset({'Sandals'}), items_add=frozenset({'Scarf', 'Dress', 'Pants'}), confidence=1.0, lift=5.0), OrderedStatistic(items_base=frozenset({'Dress', 'Pants'}), items_add=frozenset({'Scarf', 'Sandals'}), confidence=1.0, lift=5.0), OrderedStatistic(items_base=frozenset({'Scarf', 'Sandals'}), items_add=frozenset({'Dress', 'Pants'}), confidence=1.0, lift=5.0), OrderedStatistic(items_base=frozenset({'Scarf', 'Dress', 'Pants'}), items_add=frozenset({'Sandals'}), confidence=1.0, lift=5.0)]), RelationRecord(items=frozenset({'Heels', 'Earrings', 'Hat', 'Necklace'}), support=0.2, ordered_statistics=[OrderedStatistic(items_base=frozenset({'Necklace'}), items_add=frozenset({'Earrings', 'Heels', 'Hat'}), confidence=1.0, lift=5.0), OrderedStatistic(items_base=frozenset({'Earrings', 'Hat'}), items_add=frozenset({'Heels', 'Necklace'}), confidence=1.0, lift=5.0), OrderedStatistic(items_base=frozenset({'Earrings', 'Heels'}), items_add=frozenset({'Hat', 'Necklace'}), confidence=1.0, lift=5.0), OrderedStatistic(items_base=frozenset({'Earrings', 'Necklace'}), items_add=frozenset({'Heels', 'Hat'}), confidence=1.0, lift=5.0), OrderedStatistic(items_base=frozenset({'Heels', 'Hat'}), items_add=frozenset({'Earrings', 'Necklace'}), confidence=1.0, lift=5.0), OrderedStatistic(items_base=frozenset({'Hat', 'Necklace'}), items_add=frozenset({'Earrings', 'Heels'}), confidence=1.0, lift=5.0), OrderedStatistic(items_base=frozenset({'Heels', 'Necklace'}), items_add=frozenset({'Earrings', 'Hat'}), confidence=1.0, lift=5.0), OrderedStatistic(items_base=frozenset({'Heels', 'Earrings', 'Hat'}), items_add=frozenset({'Necklace'}), confidence=1.0, lift=5.0)]), RelationRecord(items=frozenset({'Earrings', 'Scarf', 'Hat', 'Necklace'}), support=0.2, ordered_statistics=[OrderedStatistic(items_base=frozenset({'Necklace'}), items_add=frozenset({'Earrings', 'Scarf', 'Hat'}), confidence=1.0, lift=5.0), OrderedStatistic(items_base=frozenset({'Earrings', 'Hat'}), items_add=frozenset({'Scarf', 'Necklace'}), confidence=1.0, lift=5.0), OrderedStatistic(items_base=frozenset({'Scarf', 'Necklace'}), items_add=frozenset({'Earrings', 'Hat'}), confidence=1.0, lift=5.0), OrderedStatistic(items_base=frozenset({'Earrings', 'Scarf', 'Hat'}), items_add=frozenset({'Necklace'}), confidence=1.0, lift=5.0)]), RelationRecord(items=frozenset({'Earrings', 'Scarf', 'Heels', 'Necklace'}), support=0.2, ordered_statistics=[OrderedStatistic(items_base=frozenset({'Necklace'}), items_add=frozenset({'Earrings', 'Scarf', 'Heels'}), confidence=1.0, lift=5.0), OrderedStatistic(items_base=frozenset({'Earrings', 'Heels'}), items_add=frozenset({'Scarf', 'Necklace'}), confidence=1.0, lift=5.0), OrderedStatistic(items_base=frozenset({'Scarf', 'Necklace'}), items_add=frozenset({'Earrings', 'Heels'}), confidence=1.0, lift=5.0), OrderedStatistic(items_base=frozenset({'Earrings', 'Scarf', 'Heels'}), items_add=frozenset({'Necklace'}), confidence=1.0, lift=5.0)]), RelationRecord(items=frozenset({'Earrings', 'Scarf', 'Shirt', 'Pants'}), support=0.2, ordered_statistics=[OrderedStatistic(items_base=frozenset({'Shirt'}), items_add=frozenset({'Earrings', 'Scarf', 'Pants'}), confidence=1.0, lift=5.0), OrderedStatistic(items_base=frozenset({'Earrings', 'Pants'}), items_add=frozenset({'Scarf', 'Shirt'}), confidence=1.0, lift=5.0), OrderedStatistic(items_base=frozenset({'Scarf', 'Shirt'}), items_add=frozenset({'Earrings', 'Pants'}), confidence=1.0, lift=5.0), OrderedStatistic(items_base=frozenset({'Earrings', 'Scarf', 'Pants'}), items_add=frozenset({'Shirt'}), confidence=1.0, lift=5.0)]), RelationRecord(items=frozenset({'Skirt', 'Earrings', 'Shirt', 'Pants'}), support=0.2, ordered_statistics=[OrderedStatistic(items_base=frozenset({'Shirt'}), items_add=frozenset({'Skirt', 'Earrings', 'Pants'}), confidence=1.0, lift=5.0), OrderedStatistic(items_base=frozenset({'Earrings', 'Pants'}), items_add=frozenset({'Skirt', 'Shirt'}), confidence=1.0, lift=5.0), OrderedStatistic(items_base=frozenset({'Skirt', 'Earrings'}), items_add=frozenset({'Shirt', 'Pants'}), confidence=1.0, lift=5.0), OrderedStatistic(items_base=frozenset({'Shirt', 'Pants'}), items_add=frozenset({'Skirt', 'Earrings'}), confidence=1.0, lift=5.0), OrderedStatistic(items_base=frozenset({'Skirt', 'Shirt'}), items_add=frozenset({'Earrings', 'Pants'}), confidence=1.0, lift=5.0), OrderedStatistic(items_base=frozenset({'Skirt', 'Earrings', 'Pants'}), items_add=frozenset({'Shirt'}), confidence=1.0, lift=5.0)]), RelationRecord(items=frozenset({'Skirt', 'Earrings', 'Scarf', 'Shirt'}), support=0.2, ordered_statistics=[OrderedStatistic(items_base=frozenset({'Shirt'}), items_add=frozenset({'Skirt', 'Earrings', 'Scarf'}), confidence=1.0, lift=5.0), OrderedStatistic(items_base=frozenset({'Skirt', 'Earrings'}), items_add=frozenset({'Scarf', 'Shirt'}), confidence=1.0, lift=5.0), OrderedStatistic(items_base=frozenset({'Scarf', 'Shirt'}), items_add=frozenset({'Skirt', 'Earrings'}), confidence=1.0, lift=5.0), OrderedStatistic(items_base=frozenset({'Skirt', 'Earrings', 'Scarf'}), items_add=frozenset({'Shirt'}), confidence=1.0, lift=5.0)]), RelationRecord(items=frozenset({'Heels', 'Scarf', 'Hat', 'Necklace'}), support=0.2, ordered_statistics=[OrderedStatistic(items_base=frozenset({'Necklace'}), items_add=frozenset({'Scarf', 'Heels', 'Hat'}), confidence=1.0, lift=5.0), OrderedStatistic(items_base=frozenset({'Heels', 'Hat'}), items_add=frozenset({'Scarf', 'Necklace'}), confidence=1.0, lift=5.0), OrderedStatistic(items_base=frozenset({'Scarf', 'Necklace'}), items_add=frozenset({'Heels', 'Hat'}), confidence=1.0, lift=5.0), OrderedStatistic(items_base=frozenset({'Heels', 'Scarf', 'Hat'}), items_add=frozenset({'Necklace'}), confidence=1.0, lift=5.0)]), RelationRecord(items=frozenset({'Scarf', 'Heels', 'Pants', 'Sandals'}), support=0.2, ordered_statistics=[OrderedStatistic(items_base=frozenset({'Sandals'}), items_add=frozenset({'Scarf', 'Heels', 'Pants'}), confidence=1.0, lift=5.0), OrderedStatistic(items_base=frozenset({'Heels', 'Pants'}), items_add=frozenset({'Scarf', 'Sandals'}), confidence=1.0, lift=5.0), OrderedStatistic(items_base=frozenset({'Scarf', 'Sandals'}), items_add=frozenset({'Heels', 'Pants'}), confidence=1.0, lift=5.0), OrderedStatistic(items_base=frozenset({'Scarf', 'Heels', 'Pants'}), items_add=frozenset({'Sandals'}), confidence=1.0, lift=5.0)]), RelationRecord(items=frozenset({'Necklace', 'Hat', 'Earrings', 'Heels', 'Dress'}), support=0.2, ordered_statistics=[OrderedStatistic(items_base=frozenset({'Necklace'}), items_add=frozenset({'Heels', 'Earrings', 'Dress', 'Hat'}), confidence=1.0, lift=5.0), OrderedStatistic(items_base=frozenset({'Earrings', 'Dress'}), items_add=frozenset({'Heels', 'Hat', 'Necklace'}), confidence=1.0, lift=5.0), OrderedStatistic(items_base=frozenset({'Dress', 'Hat'}), items_add=frozenset({'Earrings', 'Heels', 'Necklace'}), confidence=1.0, lift=5.0), OrderedStatistic(items_base=frozenset({'Dress', 'Necklace'}), items_add=frozenset({'Heels', 'Earrings', 'Hat'}), confidence=1.0, lift=5.0), OrderedStatistic(items_base=frozenset({'Earrings', 'Hat'}), items_add=frozenset({'Dress', 'Heels', 'Necklace'}), confidence=1.0, lift=5.0), OrderedStatistic(items_base=frozenset({'Earrings', 'Heels'}), items_add=frozenset({'Dress', 'Hat', 'Necklace'}), confidence=1.0, lift=5.0), OrderedStatistic(items_base=frozenset({'Earrings', 'Necklace'}), items_add=frozenset({'Heels', 'Dress', 'Hat'}), confidence=1.0, lift=5.0), OrderedStatistic(items_base=frozenset({'Heels', 'Hat'}), items_add=frozenset({'Earrings', 'Dress', 'Necklace'}), confidence=1.0, lift=5.0), OrderedStatistic(items_base=frozenset({'Hat', 'Necklace'}), items_add=frozenset({'Earrings', 'Dress', 'Heels'}), confidence=1.0, lift=5.0), OrderedStatistic(items_base=frozenset({'Heels', 'Necklace'}), items_add=frozenset({'Earrings', 'Dress', 'Hat'}), confidence=1.0, lift=5.0), OrderedStatistic(items_base=frozenset({'Earrings', 'Dress', 'Hat'}), items_add=frozenset({'Heels', 'Necklace'}), confidence=1.0, lift=5.0), OrderedStatistic(items_base=frozenset({'Earrings', 'Dress', 'Heels'}), items_add=frozenset({'Hat', 'Necklace'}), confidence=1.0, lift=5.0), OrderedStatistic(items_base=frozenset({'Earrings', 'Dress', 'Necklace'}), items_add=frozenset({'Heels', 'Hat'}), confidence=1.0, lift=5.0), OrderedStatistic(items_base=frozenset({'Heels', 'Dress', 'Hat'}), items_add=frozenset({'Earrings', 'Necklace'}), confidence=1.0, lift=5.0), OrderedStatistic(items_base=frozenset({'Dress', 'Hat', 'Necklace'}), items_add=frozenset({'Earrings', 'Heels'}), confidence=1.0, lift=5.0), OrderedStatistic(items_base=frozenset({'Dress', 'Heels', 'Necklace'}), items_add=frozenset({'Earrings', 'Hat'}), confidence=1.0, lift=5.0), OrderedStatistic(items_base=frozenset({'Heels', 'Earrings', 'Hat'}), items_add=frozenset({'Dress', 'Necklace'}), confidence=1.0, lift=5.0), OrderedStatistic(items_base=frozenset({'Earrings', 'Heels', 'Necklace'}), items_add=frozenset({'Dress', 'Hat'}), confidence=1.0, lift=5.0), OrderedStatistic(items_base=frozenset({'Heels', 'Hat', 'Necklace'}), items_add=frozenset({'Earrings', 'Dress'}), confidence=1.0, lift=5.0), OrderedStatistic(items_base=frozenset({'Heels', 'Earrings', 'Dress', 'Hat'}), items_add=frozenset({'Necklace'}), confidence=1.0, lift=5.0)]), RelationRecord(items=frozenset({'Scarf', 'Hat', 'Earrings', 'Heels', 'Dress'}), support=0.2, ordered_statistics=[OrderedStatistic(items_base=frozenset({'Earrings', 'Dress'}), items_add=frozenset({'Heels', 'Scarf', 'Hat'}), confidence=1.0, lift=5.0), OrderedStatistic(items_base=frozenset({'Dress', 'Hat'}), items_add=frozenset({'Earrings', 'Scarf', 'Heels'}), confidence=1.0, lift=5.0), OrderedStatistic(items_base=frozenset({'Earrings', 'Heels'}), items_add=frozenset({'Scarf', 'Dress', 'Hat'}), confidence=1.0, lift=5.0), OrderedStatistic(items_base=frozenset({'Heels', 'Hat'}), items_add=frozenset({'Earrings', 'Scarf', 'Dress'}), confidence=1.0, lift=5.0), OrderedStatistic(items_base=frozenset({'Earrings', 'Scarf', 'Dress'}), items_add=frozenset({'Heels', 'Hat'}), confidence=1.0, lift=5.0), OrderedStatistic(items_base=frozenset({'Scarf', 'Dress', 'Hat'}), items_add=frozenset({'Earrings', 'Heels'}), confidence=1.0, lift=5.0), OrderedStatistic(items_base=frozenset({'Earrings', 'Scarf', 'Heels'}), items_add=frozenset({'Dress', 'Hat'}), confidence=1.0, lift=5.0), OrderedStatistic(items_base=frozenset({'Heels', 'Scarf', 'Hat'}), items_add=frozenset({'Earrings', 'Dress'}), confidence=1.0, lift=5.0)]), RelationRecord(items=frozenset({'Scarf', 'Necklace', 'Hat', 'Earrings', 'Dress'}), support=0.2, ordered_statistics=[OrderedStatistic(items_base=frozenset({'Necklace'}), items_add=frozenset({'Earrings', 'Scarf', 'Dress', 'Hat'}), confidence=1.0, lift=5.0), OrderedStatistic(items_base=frozenset({'Earrings', 'Dress'}), items_add=frozenset({'Scarf', 'Hat', 'Necklace'}), confidence=1.0, lift=5.0), OrderedStatistic(items_base=frozenset({'Dress', 'Hat'}), items_add=frozenset({'Earrings', 'Scarf', 'Necklace'}), confidence=1.0, lift=5.0), OrderedStatistic(items_base=frozenset({'Dress', 'Necklace'}), items_add=frozenset({'Earrings', 'Scarf', 'Hat'}), confidence=1.0, lift=5.0), OrderedStatistic(items_base=frozenset({'Earrings', 'Hat'}), items_add=frozenset({'Scarf', 'Dress', 'Necklace'}), confidence=1.0, lift=5.0), OrderedStatistic(items_base=frozenset({'Earrings', 'Necklace'}), items_add=frozenset({'Scarf', 'Dress', 'Hat'}), confidence=1.0, lift=5.0), OrderedStatistic(items_base=frozenset({'Hat', 'Necklace'}), items_add=frozenset({'Earrings', 'Scarf', 'Dress'}), confidence=1.0, lift=5.0), OrderedStatistic(items_base=frozenset({'Scarf', 'Necklace'}), items_add=frozenset({'Earrings', 'Dress', 'Hat'}), confidence=1.0, lift=5.0), OrderedStatistic(items_base=frozenset({'Earrings', 'Dress', 'Hat'}), items_add=frozenset({'Scarf', 'Necklace'}), confidence=1.0, lift=5.0), OrderedStatistic(items_base=frozenset({'Earrings', 'Scarf', 'Dress'}), items_add=frozenset({'Hat', 'Necklace'}), confidence=1.0, lift=5.0), OrderedStatistic(items_base=frozenset({'Scarf', 'Dress', 'Hat'}), items_add=frozenset({'Earrings', 'Necklace'}), confidence=1.0, lift=5.0), OrderedStatistic(items_base=frozenset({'Scarf', 'Dress', 'Necklace'}), items_add=frozenset({'Earrings', 'Hat'}), confidence=1.0, lift=5.0), OrderedStatistic(items_base=frozenset({'Earrings', 'Scarf', 'Hat'}), items_add=frozenset({'Dress', 'Necklace'}), confidence=1.0, lift=5.0), OrderedStatistic(items_base=frozenset({'Earrings', 'Scarf', 'Necklace'}), items_add=frozenset({'Dress', 'Hat'}), confidence=1.0, lift=5.0), OrderedStatistic(items_base=frozenset({'Scarf', 'Hat', 'Necklace'}), items_add=frozenset({'Earrings', 'Dress'}), confidence=1.0, lift=5.0), OrderedStatistic(items_base=frozenset({'Earrings', 'Scarf', 'Dress', 'Hat'}), items_add=frozenset({'Necklace'}), confidence=1.0, lift=5.0)]), RelationRecord(items=frozenset({'Scarf', 'Necklace', 'Earrings', 'Heels', 'Dress'}), support=0.2, ordered_statistics=[OrderedStatistic(items_base=frozenset({'Necklace'}), items_add=frozenset({'Earrings', 'Scarf', 'Dress', 'Heels'}), confidence=1.0, lift=5.0), OrderedStatistic(items_base=frozenset({'Earrings', 'Dress'}), items_add=frozenset({'Scarf', 'Heels', 'Necklace'}), confidence=1.0, lift=5.0), OrderedStatistic(items_base=frozenset({'Dress', 'Necklace'}), items_add=frozenset({'Earrings', 'Scarf', 'Heels'}), confidence=1.0, lift=5.0), OrderedStatistic(items_base=frozenset({'Earrings', 'Heels'}), items_add=frozenset({'Scarf', 'Dress', 'Necklace'}), confidence=1.0, lift=5.0), OrderedStatistic(items_base=frozenset({'Heels', 'Necklace'}), items_add=frozenset({'Earrings', 'Scarf', 'Dress'}), confidence=1.0, lift=5.0), OrderedStatistic(items_base=frozenset({'Scarf', 'Necklace'}), items_add=frozenset({'Earrings', 'Dress', 'Heels'}), confidence=1.0, lift=5.0), OrderedStatistic(items_base=frozenset({'Earrings', 'Dress', 'Heels'}), items_add=frozenset({'Scarf', 'Necklace'}), confidence=1.0, lift=5.0), OrderedStatistic(items_base=frozenset({'Earrings', 'Scarf', 'Dress'}), items_add=frozenset({'Heels', 'Necklace'}), confidence=1.0, lift=5.0), OrderedStatistic(items_base=frozenset({'Scarf', 'Dress', 'Necklace'}), items_add=frozenset({'Earrings', 'Heels'}), confidence=1.0, lift=5.0), OrderedStatistic(items_base=frozenset({'Earrings', 'Scarf', 'Heels'}), items_add=frozenset({'Dress', 'Necklace'}), confidence=1.0, lift=5.0), OrderedStatistic(items_base=frozenset({'Scarf', 'Heels', 'Necklace'}), items_add=frozenset({'Earrings', 'Dress'}), confidence=1.0, lift=5.0), OrderedStatistic(items_base=frozenset({'Earrings', 'Scarf', 'Dress', 'Heels'}), items_add=frozenset({'Necklace'}), confidence=1.0, lift=5.0)]), RelationRecord(items=frozenset({'Scarf', 'Necklace', 'Hat', 'Heels', 'Dress'}), support=0.2, ordered_statistics=[OrderedStatistic(items_base=frozenset({'Necklace'}), items_add=frozenset({'Heels', 'Scarf', 'Dress', 'Hat'}), confidence=1.0, lift=5.0), OrderedStatistic(items_base=frozenset({'Dress', 'Hat'}), items_add=frozenset({'Scarf', 'Heels', 'Necklace'}), confidence=1.0, lift=5.0), OrderedStatistic(items_base=frozenset({'Dress', 'Necklace'}), items_add=frozenset({'Heels', 'Scarf', 'Hat'}), confidence=1.0, lift=5.0), OrderedStatistic(items_base=frozenset({'Heels', 'Hat'}), items_add=frozenset({'Scarf', 'Dress', 'Necklace'}), confidence=1.0, lift=5.0), OrderedStatistic(items_base=frozenset({'Heels', 'Necklace'}), items_add=frozenset({'Scarf', 'Dress', 'Hat'}), confidence=1.0, lift=5.0), OrderedStatistic(items_base=frozenset({'Scarf', 'Necklace'}), items_add=frozenset({'Heels', 'Dress', 'Hat'}), confidence=1.0, lift=5.0), OrderedStatistic(items_base=frozenset({'Heels', 'Dress', 'Hat'}), items_add=frozenset({'Scarf', 'Necklace'}), confidence=1.0, lift=5.0), OrderedStatistic(items_base=frozenset({'Scarf', 'Dress', 'Hat'}), items_add=frozenset({'Heels', 'Necklace'}), confidence=1.0, lift=5.0), OrderedStatistic(items_base=frozenset({'Scarf', 'Dress', 'Necklace'}), items_add=frozenset({'Heels', 'Hat'}), confidence=1.0, lift=5.0), OrderedStatistic(items_base=frozenset({'Heels', 'Scarf', 'Hat'}), items_add=frozenset({'Dress', 'Necklace'}), confidence=1.0, lift=5.0), OrderedStatistic(items_base=frozenset({'Scarf', 'Heels', 'Necklace'}), items_add=frozenset({'Dress', 'Hat'}), confidence=1.0, lift=5.0), OrderedStatistic(items_base=frozenset({'Heels', 'Scarf', 'Dress', 'Hat'}), items_add=frozenset({'Necklace'}), confidence=1.0, lift=5.0)]), RelationRecord(items=frozenset({'Scarf', 'Sandals', 'Heels', 'Pants', 'Dress'}), support=0.2, ordered_statistics=[OrderedStatistic(items_base=frozenset({'Sandals'}), items_add=frozenset({'Scarf', 'Dress', 'Heels', 'Pants'}), confidence=1.0, lift=5.0), OrderedStatistic(items_base=frozenset({'Dress', 'Pants'}), items_add=frozenset({'Scarf', 'Heels', 'Sandals'}), confidence=1.0, lift=5.0), OrderedStatistic(items_base=frozenset({'Dress', 'Sandals'}), items_add=frozenset({'Scarf', 'Heels', 'Pants'}), confidence=1.0, lift=5.0), OrderedStatistic(items_base=frozenset({'Heels', 'Pants'}), items_add=frozenset({'Scarf', 'Dress', 'Sandals'}), confidence=1.0, lift=5.0), OrderedStatistic(items_base=frozenset({'Heels', 'Sandals'}), items_add=frozenset({'Scarf', 'Dress', 'Pants'}), confidence=1.0, lift=5.0), OrderedStatistic(items_base=frozenset({'Scarf', 'Sandals'}), items_add=frozenset({'Dress', 'Heels', 'Pants'}), confidence=1.0, lift=5.0), OrderedStatistic(items_base=frozenset({'Dress', 'Heels', 'Pants'}), items_add=frozenset({'Scarf', 'Sandals'}), confidence=1.0, lift=5.0), OrderedStatistic(items_base=frozenset({'Scarf', 'Dress', 'Pants'}), items_add=frozenset({'Heels', 'Sandals'}), confidence=1.0, lift=5.0), OrderedStatistic(items_base=frozenset({'Scarf', 'Dress', 'Sandals'}), items_add=frozenset({'Heels', 'Pants'}), confidence=1.0, lift=5.0), OrderedStatistic(items_base=frozenset({'Scarf', 'Heels', 'Pants'}), items_add=frozenset({'Dress', 'Sandals'}), confidence=1.0, lift=5.0), OrderedStatistic(items_base=frozenset({'Scarf', 'Heels', 'Sandals'}), items_add=frozenset({'Dress', 'Pants'}), confidence=1.0, lift=5.0), OrderedStatistic(items_base=frozenset({'Scarf', 'Dress', 'Heels', 'Pants'}), items_add=frozenset({'Sandals'}), confidence=1.0, lift=5.0)]), RelationRecord(items=frozenset({'Scarf', 'Necklace', 'Hat', 'Earrings', 'Heels'}), support=0.2, ordered_statistics=[OrderedStatistic(items_base=frozenset({'Necklace'}), items_add=frozenset({'Heels', 'Earrings', 'Scarf', 'Hat'}), confidence=1.0, lift=5.0), OrderedStatistic(items_base=frozenset({'Earrings', 'Hat'}), items_add=frozenset({'Scarf', 'Heels', 'Necklace'}), confidence=1.0, lift=5.0), OrderedStatistic(items_base=frozenset({'Earrings', 'Heels'}), items_add=frozenset({'Scarf', 'Hat', 'Necklace'}), confidence=1.0, lift=5.0), OrderedStatistic(items_base=frozenset({'Earrings', 'Necklace'}), items_add=frozenset({'Heels', 'Scarf', 'Hat'}), confidence=1.0, lift=5.0), OrderedStatistic(items_base=frozenset({'Heels', 'Hat'}), items_add=frozenset({'Earrings', 'Scarf', 'Necklace'}), confidence=1.0, lift=5.0), OrderedStatistic(items_base=frozenset({'Hat', 'Necklace'}), items_add=frozenset({'Earrings', 'Scarf', 'Heels'}), confidence=1.0, lift=5.0), OrderedStatistic(items_base=frozenset({'Heels', 'Necklace'}), items_add=frozenset({'Earrings', 'Scarf', 'Hat'}), confidence=1.0, lift=5.0), OrderedStatistic(items_base=frozenset({'Scarf', 'Necklace'}), items_add=frozenset({'Heels', 'Earrings', 'Hat'}), confidence=1.0, lift=5.0), OrderedStatistic(items_base=frozenset({'Heels', 'Earrings', 'Hat'}), items_add=frozenset({'Scarf', 'Necklace'}), confidence=1.0, lift=5.0), OrderedStatistic(items_base=frozenset({'Earrings', 'Scarf', 'Hat'}), items_add=frozenset({'Heels', 'Necklace'}), confidence=1.0, lift=5.0), OrderedStatistic(items_base=frozenset({'Earrings', 'Scarf', 'Heels'}), items_add=frozenset({'Hat', 'Necklace'}), confidence=1.0, lift=5.0), OrderedStatistic(items_base=frozenset({'Earrings', 'Scarf', 'Necklace'}), items_add=frozenset({'Heels', 'Hat'}), confidence=1.0, lift=5.0), OrderedStatistic(items_base=frozenset({'Heels', 'Scarf', 'Hat'}), items_add=frozenset({'Earrings', 'Necklace'}), confidence=1.0, lift=5.0), OrderedStatistic(items_base=frozenset({'Scarf', 'Hat', 'Necklace'}), items_add=frozenset({'Earrings', 'Heels'}), confidence=1.0, lift=5.0), OrderedStatistic(items_base=frozenset({'Scarf', 'Heels', 'Necklace'}), items_add=frozenset({'Earrings', 'Hat'}), confidence=1.0, lift=5.0), OrderedStatistic(items_base=frozenset({'Heels', 'Earrings', 'Scarf', 'Hat'}), items_add=frozenset({'Necklace'}), confidence=1.0, lift=5.0)]), RelationRecord(items=frozenset({'Scarf', 'Skirt', 'Earrings', 'Pants', 'Shirt'}), support=0.2, ordered_statistics=[OrderedStatistic(items_base=frozenset({'Shirt'}), items_add=frozenset({'Skirt', 'Earrings', 'Scarf', 'Pants'}), confidence=1.0, lift=5.0), OrderedStatistic(items_base=frozenset({'Earrings', 'Pants'}), items_add=frozenset({'Skirt', 'Scarf', 'Shirt'}), confidence=1.0, lift=5.0), OrderedStatistic(items_base=frozenset({'Skirt', 'Earrings'}), items_add=frozenset({'Scarf', 'Shirt', 'Pants'}), confidence=1.0, lift=5.0), OrderedStatistic(items_base=frozenset({'Shirt', 'Pants'}), items_add=frozenset({'Skirt', 'Earrings', 'Scarf'}), confidence=1.0, lift=5.0), OrderedStatistic(items_base=frozenset({'Scarf', 'Shirt'}), items_add=frozenset({'Skirt', 'Earrings', 'Pants'}), confidence=1.0, lift=5.0), OrderedStatistic(items_base=frozenset({'Skirt', 'Shirt'}), items_add=frozenset({'Earrings', 'Scarf', 'Pants'}), confidence=1.0, lift=5.0), OrderedStatistic(items_base=frozenset({'Earrings', 'Scarf', 'Pants'}), items_add=frozenset({'Skirt', 'Shirt'}), confidence=1.0, lift=5.0), OrderedStatistic(items_base=frozenset({'Skirt', 'Earrings', 'Pants'}), items_add=frozenset({'Scarf', 'Shirt'}), confidence=1.0, lift=5.0), OrderedStatistic(items_base=frozenset({'Skirt', 'Earrings', 'Scarf'}), items_add=frozenset({'Shirt', 'Pants'}), confidence=1.0, lift=5.0), OrderedStatistic(items_base=frozenset({'Scarf', 'Shirt', 'Pants'}), items_add=frozenset({'Skirt', 'Earrings'}), confidence=1.0, lift=5.0), OrderedStatistic(items_base=frozenset({'Skirt', 'Scarf', 'Shirt'}), items_add=frozenset({'Earrings', 'Pants'}), confidence=1.0, lift=5.0), OrderedStatistic(items_base=frozenset({'Skirt', 'Earrings', 'Scarf', 'Pants'}), items_add=frozenset({'Shirt'}), confidence=1.0, lift=5.0)]), RelationRecord(items=frozenset({'Scarf', 'Necklace', 'Hat', 'Earrings', 'Heels', 'Dress'}), support=0.2, ordered_statistics=[OrderedStatistic(items_base=frozenset({'Necklace'}), items_add=frozenset({'Scarf', 'Hat', 'Earrings', 'Heels', 'Dress'}), confidence=1.0, lift=5.0), OrderedStatistic(items_base=frozenset({'Earrings', 'Dress'}), items_add=frozenset({'Heels', 'Scarf', 'Hat', 'Necklace'}), confidence=1.0, lift=5.0), OrderedStatistic(items_base=frozenset({'Dress', 'Hat'}), items_add=frozenset({'Earrings', 'Scarf', 'Heels', 'Necklace'}), confidence=1.0, lift=5.0), OrderedStatistic(items_base=frozenset({'Dress', 'Necklace'}), items_add=frozenset({'Heels', 'Earrings', 'Scarf', 'Hat'}), confidence=1.0, lift=5.0), OrderedStatistic(items_base=frozenset({'Earrings', 'Hat'}), items_add=frozenset({'Scarf', 'Dress', 'Heels', 'Necklace'}), confidence=1.0, lift=5.0), OrderedStatistic(items_base=frozenset({'Earrings', 'Heels'}), items_add=frozenset({'Scarf', 'Dress', 'Hat', 'Necklace'}), confidence=1.0, lift=5.0), OrderedStatistic(items_base=frozenset({'Earrings', 'Necklace'}), items_add=frozenset({'Heels', 'Scarf', 'Dress', 'Hat'}), confidence=1.0, lift=5.0), OrderedStatistic(items_base=frozenset({'Heels', 'Hat'}), items_add=frozenset({'Earrings', 'Scarf', 'Dress', 'Necklace'}), confidence=1.0, lift=5.0), OrderedStatistic(items_base=frozenset({'Hat', 'Necklace'}), items_add=frozenset({'Earrings', 'Scarf', 'Dress', 'Heels'}), confidence=1.0, lift=5.0), OrderedStatistic(items_base=frozenset({'Heels', 'Necklace'}), items_add=frozenset({'Earrings', 'Scarf', 'Dress', 'Hat'}), confidence=1.0, lift=5.0), OrderedStatistic(items_base=frozenset({'Scarf', 'Necklace'}), items_add=frozenset({'Heels', 'Earrings', 'Dress', 'Hat'}), confidence=1.0, lift=5.0), OrderedStatistic(items_base=frozenset({'Earrings', 'Dress', 'Hat'}), items_add=frozenset({'Scarf', 'Heels', 'Necklace'}), confidence=1.0, lift=5.0), OrderedStatistic(items_base=frozenset({'Earrings', 'Dress', 'Heels'}), items_add=frozenset({'Scarf', 'Hat', 'Necklace'}), confidence=1.0, lift=5.0), OrderedStatistic(items_base=frozenset({'Earrings', 'Dress', 'Necklace'}), items_add=frozenset({'Heels', 'Scarf', 'Hat'}), confidence=1.0, lift=5.0), OrderedStatistic(items_base=frozenset({'Earrings', 'Scarf', 'Dress'}), items_add=frozenset({'Heels', 'Hat', 'Necklace'}), confidence=1.0, lift=5.0), OrderedStatistic(items_base=frozenset({'Heels', 'Dress', 'Hat'}), items_add=frozenset({'Earrings', 'Scarf', 'Necklace'}), confidence=1.0, lift=5.0), OrderedStatistic(items_base=frozenset({'Dress', 'Hat', 'Necklace'}), items_add=frozenset({'Earrings', 'Scarf', 'Heels'}), confidence=1.0, lift=5.0), OrderedStatistic(items_base=frozenset({'Scarf', 'Dress', 'Hat'}), items_add=frozenset({'Earrings', 'Heels', 'Necklace'}), confidence=1.0, lift=5.0), OrderedStatistic(items_base=frozenset({'Dress', 'Heels', 'Necklace'}), items_add=frozenset({'Earrings', 'Scarf', 'Hat'}), confidence=1.0, lift=5.0), OrderedStatistic(items_base=frozenset({'Scarf', 'Dress', 'Necklace'}), items_add=frozenset({'Heels', 'Earrings', 'Hat'}), confidence=1.0, lift=5.0), OrderedStatistic(items_base=frozenset({'Heels', 'Earrings', 'Hat'}), items_add=frozenset({'Scarf', 'Dress', 'Necklace'}), confidence=1.0, lift=5.0), OrderedStatistic(items_base=frozenset({'Earrings', 'Scarf', 'Hat'}), items_add=frozenset({'Dress', 'Heels', 'Necklace'}), confidence=1.0, lift=5.0), OrderedStatistic(items_base=frozenset({'Earrings', 'Heels', 'Necklace'}), items_add=frozenset({'Scarf', 'Dress', 'Hat'}), confidence=1.0, lift=5.0), OrderedStatistic(items_base=frozenset({'Earrings', 'Scarf', 'Heels'}), items_add=frozenset({'Dress', 'Hat', 'Necklace'}), confidence=1.0, lift=5.0), OrderedStatistic(items_base=frozenset({'Earrings', 'Scarf', 'Necklace'}), items_add=frozenset({'Heels', 'Dress', 'Hat'}), confidence=1.0, lift=5.0), OrderedStatistic(items_base=frozenset({'Heels', 'Hat', 'Necklace'}), items_add=frozenset({'Earrings', 'Scarf', 'Dress'}), confidence=1.0, lift=5.0), OrderedStatistic(items_base=frozenset({'Heels', 'Scarf', 'Hat'}), items_add=frozenset({'Earrings', 'Dress', 'Necklace'}), confidence=1.0, lift=5.0), OrderedStatistic(items_base=frozenset({'Scarf', 'Hat', 'Necklace'}), items_add=frozenset({'Earrings', 'Dress', 'Heels'}), confidence=1.0, lift=5.0), OrderedStatistic(items_base=frozenset({'Scarf', 'Heels', 'Necklace'}), items_add=frozenset({'Earrings', 'Dress', 'Hat'}), confidence=1.0, lift=5.0), OrderedStatistic(items_base=frozenset({'Heels', 'Earrings', 'Dress', 'Hat'}), items_add=frozenset({'Scarf', 'Necklace'}), confidence=1.0, lift=5.0), OrderedStatistic(items_base=frozenset({'Earrings', 'Scarf', 'Dress', 'Hat'}), items_add=frozenset({'Heels', 'Necklace'}), confidence=1.0, lift=5.0), OrderedStatistic(items_base=frozenset({'Earrings', 'Scarf', 'Dress', 'Heels'}), items_add=frozenset({'Hat', 'Necklace'}), confidence=1.0, lift=5.0), OrderedStatistic(items_base=frozenset({'Earrings', 'Scarf', 'Dress', 'Necklace'}), items_add=frozenset({'Heels', 'Hat'}), confidence=1.0, lift=5.0), OrderedStatistic(items_base=frozenset({'Heels', 'Scarf', 'Dress', 'Hat'}), items_add=frozenset({'Earrings', 'Necklace'}), confidence=1.0, lift=5.0), OrderedStatistic(items_base=frozenset({'Scarf', 'Dress', 'Hat', 'Necklace'}), items_add=frozenset({'Earrings', 'Heels'}), confidence=1.0, lift=5.0), OrderedStatistic(items_base=frozenset({'Scarf', 'Dress', 'Heels', 'Necklace'}), items_add=frozenset({'Earrings', 'Hat'}), confidence=1.0, lift=5.0), OrderedStatistic(items_base=frozenset({'Heels', 'Earrings', 'Scarf', 'Hat'}), items_add=frozenset({'Dress', 'Necklace'}), confidence=1.0, lift=5.0), OrderedStatistic(items_base=frozenset({'Earrings', 'Scarf', 'Heels', 'Necklace'}), items_add=frozenset({'Dress', 'Hat'}), confidence=1.0, lift=5.0), OrderedStatistic(items_base=frozenset({'Heels', 'Scarf', 'Hat', 'Necklace'}), items_add=frozenset({'Earrings', 'Dress'}), confidence=1.0, lift=5.0), OrderedStatistic(items_base=frozenset({'Scarf', 'Hat', 'Earrings', 'Heels', 'Dress'}), items_add=frozenset({'Necklace'}), confidence=1.0, lift=5.0)])]\n"
     ]
    }
   ],
   "source": [
    "print(list(rules))"
   ]
  },
  {
   "cell_type": "code",
   "execution_count": 24,
   "id": "1039b553",
   "metadata": {},
   "outputs": [
    {
     "name": "stdout",
     "output_type": "stream",
     "text": [
      "   Skirt  Sneakers  Scarf  Pants  Hat  Sunglasses  Dress  Sandals  Heels  \\\n",
      "0      1         1      1      1    1           0      0        0      0   \n",
      "1      1         1      0      1    1           1      0        0      0   \n",
      "2      0         0      1      1    0           0      1        1      1   \n",
      "3      0         0      1      0    1           0      1        0      1   \n",
      "4      1         0      1      1    0           0      0        0      0   \n",
      "\n",
      "   Necklace  Earrings  \n",
      "0         0         0  \n",
      "1         0         0  \n",
      "2         0         0  \n",
      "3         1         1  \n",
      "4         0         1  \n"
     ]
    }
   ],
   "source": [
    "import pandas as pd\n",
    " \n",
    "dataset = [['Skirt', 'Sneakers', 'Scarf', 'Pants', 'Hat'],\n",
    "\n",
    "    ['Sunglasses', 'Skirt', 'Sneakers', 'Pants', 'Hat'],\n",
    "\n",
    "    ['Dress', 'Sandals', 'Scarf', 'Pants', 'Heels'],\n",
    "\n",
    "    ['Dress', 'Necklace', 'Earrings', 'Scarf', 'Hat', 'Heels', 'Hat'],\n",
    "\n",
    "   ['Earrings', 'Skirt', 'Skirt', 'Scarf', 'Shirt', 'Pants']]\n",
    "df=[[1,1,1,1,1,0,0,0,0,0,0],[1,1,0,1,1,1,0,0,0,0,0],[0,0,1,1,0,0,1,1,1,0,0],[0,0,1,0,1,0,1,0,1,1,1],[1,0,1,1,0,0,0,0,0,0,1]]\n",
    "data = pd.DataFrame(df, columns = ['Skirt', 'Sneakers', 'Scarf', 'Pants', 'Hat','Sunglasses','Dress', 'Sandals','Heels','Necklace', 'Earrings'])\n",
    " \n",
    "\n",
    "print(data )"
   ]
  },
  {
   "cell_type": "code",
   "execution_count": 21,
   "id": "baba0d07",
   "metadata": {},
   "outputs": [],
   "source": [
    "import mlxtend\n",
    "import pandas as pd\n",
    "from mlxtend.preprocessing import TransactionEncoder\n",
    "te=TransactionEncoder()\n",
    "te_ary=te.fit(dataset).transform(dataset)   \n",
    "dataset=pd.DataFrame(te_ary, columns=te.columns_)  "
   ]
  },
  {
   "cell_type": "code",
   "execution_count": 22,
   "id": "28ae40fe",
   "metadata": {},
   "outputs": [
    {
     "data": {
      "text/html": [
       "<div>\n",
       "<style scoped>\n",
       "    .dataframe tbody tr th:only-of-type {\n",
       "        vertical-align: middle;\n",
       "    }\n",
       "\n",
       "    .dataframe tbody tr th {\n",
       "        vertical-align: top;\n",
       "    }\n",
       "\n",
       "    .dataframe thead th {\n",
       "        text-align: right;\n",
       "    }\n",
       "</style>\n",
       "<table border=\"1\" class=\"dataframe\">\n",
       "  <thead>\n",
       "    <tr style=\"text-align: right;\">\n",
       "      <th></th>\n",
       "      <th>support</th>\n",
       "      <th>itemsets</th>\n",
       "    </tr>\n",
       "  </thead>\n",
       "  <tbody>\n",
       "    <tr>\n",
       "      <th>0</th>\n",
       "      <td>0.6</td>\n",
       "      <td>(2)</td>\n",
       "    </tr>\n",
       "    <tr>\n",
       "      <th>1</th>\n",
       "      <td>0.8</td>\n",
       "      <td>(5)</td>\n",
       "    </tr>\n",
       "    <tr>\n",
       "      <th>2</th>\n",
       "      <td>0.8</td>\n",
       "      <td>(7)</td>\n",
       "    </tr>\n",
       "    <tr>\n",
       "      <th>3</th>\n",
       "      <td>0.6</td>\n",
       "      <td>(9)</td>\n",
       "    </tr>\n",
       "    <tr>\n",
       "      <th>4</th>\n",
       "      <td>0.6</td>\n",
       "      <td>(5, 7)</td>\n",
       "    </tr>\n",
       "    <tr>\n",
       "      <th>5</th>\n",
       "      <td>0.6</td>\n",
       "      <td>(9, 5)</td>\n",
       "    </tr>\n",
       "  </tbody>\n",
       "</table>\n",
       "</div>"
      ],
      "text/plain": [
       "   support itemsets\n",
       "0      0.6      (2)\n",
       "1      0.8      (5)\n",
       "2      0.8      (7)\n",
       "3      0.6      (9)\n",
       "4      0.6   (5, 7)\n",
       "5      0.6   (9, 5)"
      ]
     },
     "execution_count": 22,
     "metadata": {},
     "output_type": "execute_result"
    }
   ],
   "source": [
    "from mlxtend.frequent_patterns import apriori\n",
    "apriori(dataset, min_support=0.6)"
   ]
  },
  {
   "cell_type": "code",
   "execution_count": 25,
   "id": "56f3a35e",
   "metadata": {},
   "outputs": [
    {
     "data": {
      "text/html": [
       "<div>\n",
       "<style scoped>\n",
       "    .dataframe tbody tr th:only-of-type {\n",
       "        vertical-align: middle;\n",
       "    }\n",
       "\n",
       "    .dataframe tbody tr th {\n",
       "        vertical-align: top;\n",
       "    }\n",
       "\n",
       "    .dataframe thead th {\n",
       "        text-align: right;\n",
       "    }\n",
       "</style>\n",
       "<table border=\"1\" class=\"dataframe\">\n",
       "  <thead>\n",
       "    <tr style=\"text-align: right;\">\n",
       "      <th></th>\n",
       "      <th>support</th>\n",
       "      <th>itemsets</th>\n",
       "    </tr>\n",
       "  </thead>\n",
       "  <tbody>\n",
       "    <tr>\n",
       "      <th>0</th>\n",
       "      <td>0.6</td>\n",
       "      <td>(Skirt)</td>\n",
       "    </tr>\n",
       "    <tr>\n",
       "      <th>1</th>\n",
       "      <td>0.8</td>\n",
       "      <td>(Scarf)</td>\n",
       "    </tr>\n",
       "    <tr>\n",
       "      <th>2</th>\n",
       "      <td>0.8</td>\n",
       "      <td>(Pants)</td>\n",
       "    </tr>\n",
       "    <tr>\n",
       "      <th>3</th>\n",
       "      <td>0.6</td>\n",
       "      <td>(Hat)</td>\n",
       "    </tr>\n",
       "    <tr>\n",
       "      <th>4</th>\n",
       "      <td>0.6</td>\n",
       "      <td>(Skirt, Pants)</td>\n",
       "    </tr>\n",
       "    <tr>\n",
       "      <th>5</th>\n",
       "      <td>0.6</td>\n",
       "      <td>(Scarf, Pants)</td>\n",
       "    </tr>\n",
       "  </tbody>\n",
       "</table>\n",
       "</div>"
      ],
      "text/plain": [
       "   support        itemsets\n",
       "0      0.6         (Skirt)\n",
       "1      0.8         (Scarf)\n",
       "2      0.8         (Pants)\n",
       "3      0.6           (Hat)\n",
       "4      0.6  (Skirt, Pants)\n",
       "5      0.6  (Scarf, Pants)"
      ]
     },
     "execution_count": 25,
     "metadata": {},
     "output_type": "execute_result"
    }
   ],
   "source": [
    "frequent_itemsets=apriori(data, min_support=0.6, use_colnames=True) \n",
    "frequent_itemsets"
   ]
  },
  {
   "cell_type": "code",
   "execution_count": 27,
   "id": "2c5021f9",
   "metadata": {},
   "outputs": [
    {
     "data": {
      "text/html": [
       "<div>\n",
       "<style scoped>\n",
       "    .dataframe tbody tr th:only-of-type {\n",
       "        vertical-align: middle;\n",
       "    }\n",
       "\n",
       "    .dataframe tbody tr th {\n",
       "        vertical-align: top;\n",
       "    }\n",
       "\n",
       "    .dataframe thead th {\n",
       "        text-align: right;\n",
       "    }\n",
       "</style>\n",
       "<table border=\"1\" class=\"dataframe\">\n",
       "  <thead>\n",
       "    <tr style=\"text-align: right;\">\n",
       "      <th></th>\n",
       "      <th>antecedents</th>\n",
       "      <th>consequents</th>\n",
       "      <th>antecedent support</th>\n",
       "      <th>consequent support</th>\n",
       "      <th>support</th>\n",
       "      <th>confidence</th>\n",
       "      <th>lift</th>\n",
       "      <th>leverage</th>\n",
       "      <th>conviction</th>\n",
       "    </tr>\n",
       "  </thead>\n",
       "  <tbody>\n",
       "    <tr>\n",
       "      <th>0</th>\n",
       "      <td>(Skirt)</td>\n",
       "      <td>(Pants)</td>\n",
       "      <td>0.6</td>\n",
       "      <td>0.8</td>\n",
       "      <td>0.6</td>\n",
       "      <td>1.00</td>\n",
       "      <td>1.2500</td>\n",
       "      <td>0.12</td>\n",
       "      <td>inf</td>\n",
       "    </tr>\n",
       "    <tr>\n",
       "      <th>1</th>\n",
       "      <td>(Pants)</td>\n",
       "      <td>(Skirt)</td>\n",
       "      <td>0.8</td>\n",
       "      <td>0.6</td>\n",
       "      <td>0.6</td>\n",
       "      <td>0.75</td>\n",
       "      <td>1.2500</td>\n",
       "      <td>0.12</td>\n",
       "      <td>1.6</td>\n",
       "    </tr>\n",
       "    <tr>\n",
       "      <th>2</th>\n",
       "      <td>(Scarf)</td>\n",
       "      <td>(Pants)</td>\n",
       "      <td>0.8</td>\n",
       "      <td>0.8</td>\n",
       "      <td>0.6</td>\n",
       "      <td>0.75</td>\n",
       "      <td>0.9375</td>\n",
       "      <td>-0.04</td>\n",
       "      <td>0.8</td>\n",
       "    </tr>\n",
       "    <tr>\n",
       "      <th>3</th>\n",
       "      <td>(Pants)</td>\n",
       "      <td>(Scarf)</td>\n",
       "      <td>0.8</td>\n",
       "      <td>0.8</td>\n",
       "      <td>0.6</td>\n",
       "      <td>0.75</td>\n",
       "      <td>0.9375</td>\n",
       "      <td>-0.04</td>\n",
       "      <td>0.8</td>\n",
       "    </tr>\n",
       "  </tbody>\n",
       "</table>\n",
       "</div>"
      ],
      "text/plain": [
       "  antecedents consequents  antecedent support  consequent support  support  \\\n",
       "0     (Skirt)     (Pants)                 0.6                 0.8      0.6   \n",
       "1     (Pants)     (Skirt)                 0.8                 0.6      0.6   \n",
       "2     (Scarf)     (Pants)                 0.8                 0.8      0.6   \n",
       "3     (Pants)     (Scarf)                 0.8                 0.8      0.6   \n",
       "\n",
       "   confidence    lift  leverage  conviction  \n",
       "0        1.00  1.2500      0.12         inf  \n",
       "1        0.75  1.2500      0.12         1.6  \n",
       "2        0.75  0.9375     -0.04         0.8  \n",
       "3        0.75  0.9375     -0.04         0.8  "
      ]
     },
     "execution_count": 27,
     "metadata": {},
     "output_type": "execute_result"
    }
   ],
   "source": [
    "from mlxtend.frequent_patterns import association_rules \n",
    "association_rules(frequent_itemsets,metric=\"confidence\",min_threshold=0.7)"
   ]
  },
  {
   "cell_type": "code",
   "execution_count": 28,
   "id": "11fe7ee9",
   "metadata": {},
   "outputs": [
    {
     "data": {
      "text/html": [
       "<div>\n",
       "<style scoped>\n",
       "    .dataframe tbody tr th:only-of-type {\n",
       "        vertical-align: middle;\n",
       "    }\n",
       "\n",
       "    .dataframe tbody tr th {\n",
       "        vertical-align: top;\n",
       "    }\n",
       "\n",
       "    .dataframe thead th {\n",
       "        text-align: right;\n",
       "    }\n",
       "</style>\n",
       "<table border=\"1\" class=\"dataframe\">\n",
       "  <thead>\n",
       "    <tr style=\"text-align: right;\">\n",
       "      <th></th>\n",
       "      <th>antecedents</th>\n",
       "      <th>consequents</th>\n",
       "      <th>antecedent support</th>\n",
       "      <th>consequent support</th>\n",
       "      <th>support</th>\n",
       "      <th>confidence</th>\n",
       "      <th>lift</th>\n",
       "      <th>leverage</th>\n",
       "      <th>conviction</th>\n",
       "    </tr>\n",
       "  </thead>\n",
       "  <tbody>\n",
       "    <tr>\n",
       "      <th>0</th>\n",
       "      <td>(Skirt)</td>\n",
       "      <td>(Pants)</td>\n",
       "      <td>0.6</td>\n",
       "      <td>0.8</td>\n",
       "      <td>0.6</td>\n",
       "      <td>1.0</td>\n",
       "      <td>1.25</td>\n",
       "      <td>0.12</td>\n",
       "      <td>inf</td>\n",
       "    </tr>\n",
       "  </tbody>\n",
       "</table>\n",
       "</div>"
      ],
      "text/plain": [
       "  antecedents consequents  antecedent support  consequent support  support  \\\n",
       "0     (Skirt)     (Pants)                 0.6                 0.8      0.6   \n",
       "\n",
       "   confidence  lift  leverage  conviction  \n",
       "0         1.0  1.25      0.12         inf  "
      ]
     },
     "execution_count": 28,
     "metadata": {},
     "output_type": "execute_result"
    }
   ],
   "source": [
    "from mlxtend.frequent_patterns import association_rules \n",
    "association_rules(frequent_itemsets,metric=\"lift\",min_threshold=1.25)"
   ]
  },
  {
   "cell_type": "code",
   "execution_count": 29,
   "id": "bd60589f",
   "metadata": {},
   "outputs": [
    {
     "data": {
      "text/plain": [
       "<AxesSubplot:title={'center':'Skirt and Pants association'}, xlabel='Skirt', ylabel='Pants'>"
      ]
     },
     "execution_count": 29,
     "metadata": {},
     "output_type": "execute_result"
    },
    {
     "data": {
      "image/png": "[encoded data removed]",
      "text/plain": [
       "<Figure size 432x288 with 1 Axes>"
      ]
     },
     "metadata": {
      "needs_background": "light"
     },
     "output_type": "display_data"
    }
   ],
   "source": [
    "import matplotlib.pyplot as plt\n",
    "plt.xlabel('Skirt')\n",
    "plt.ylabel('Pants')\n",
    "plt.title('Skirt and Pants association')\n",
    "vc=data['Skirt'].value_counts()\n",
    "vc.plot.bar(rot=45)"
   ]
  },
  {
   "cell_type": "code",
   "execution_count": 30,
   "id": "5c437679",
   "metadata": {},
   "outputs": [
    {
     "data": {
      "text/plain": [
       "array([<AxesSubplot:title={'center':'0'}>,\n",
       "       <AxesSubplot:title={'center':'1'}>], dtype=object)"
      ]
     },
     "execution_count": 30,
     "metadata": {},
     "output_type": "execute_result"
    },
    {
     "data": {
      "image/png": "[encoded data removed]",
      "text/plain": [
       "<Figure size 432x288 with 2 Axes>"
      ]
     },
     "metadata": {
      "needs_background": "light"
     },
     "output_type": "display_data"
    },
    {
     "data": {
      "image/png": "[encoded data removed]",
      "text/plain": [
       "<Figure size 432x288 with 2 Axes>"
      ]
     },
     "metadata": {
      "needs_background": "light"
     },
     "output_type": "display_data"
    }
   ],
   "source": [
    "data.hist(column='Scarf', by='Pants')\n",
    "data.hist(column='Skirt', by='Scarf')"
   ]
  },
  {
   "cell_type": "code",
   "execution_count": 32,
   "id": "e878dec8",
   "metadata": {},
   "outputs": [
    {
     "data": {
      "text/plain": [
       "<AxesSubplot:xlabel='Scarf', ylabel='Pants'>"
      ]
     },
     "execution_count": 32,
     "metadata": {},
     "output_type": "execute_result"
    },
    {
     "data": {
      "image/png": "[encoded data removed]",
      "text/plain": [
       "<Figure size 432x288 with 1 Axes>"
      ]
     },
     "metadata": {
      "needs_background": "light"
     },
     "output_type": "display_data"
    }
   ],
   "source": [
    "import seaborn as sns\n",
    "sns.barplot(x='Scarf', y='Pants', data=data)"
   ]
  },
  {
   "cell_type": "code",
   "execution_count": 33,
   "id": "3588213e",
   "metadata": {},
   "outputs": [
    {
     "name": "stdout",
     "output_type": "stream",
     "text": [
      "None\n"
     ]
    },
    {
     "data": {
      "image/png": "[encoded data removed]",
      "text/plain": [
       "<Figure size 864x720 with 2 Axes>"
      ]
     },
     "metadata": {
      "needs_background": "light"
     },
     "output_type": "display_data"
    }
   ],
   "source": [
    "import pandas as pd\n",
    "import seaborn as sns\n",
    "import numpy as np\n",
    "import matplotlib.pyplot as plt\n",
    "def plot_correlation_map( data ):\n",
    "\n",
    "    corr = data.corr()\n",
    "\n",
    "    s , ax = plt.subplots( figsize =( 12 , 10 ) )\n",
    "\n",
    "    cmap = sns.diverging_palette( 220 , 10 , as_cmap = True )\n",
    "\n",
    "    s = sns.heatmap(\n",
    "\n",
    "        corr, \n",
    "\n",
    "        cmap = cmap,\n",
    "\n",
    "        square=True, \n",
    "\n",
    "        cbar_kws={ 'shrink' : .9 }, \n",
    "\n",
    "        ax=ax, \n",
    "\n",
    "        annot = True, \n",
    "\n",
    "        annot_kws = { 'fontsize' : 12 }\n",
    "\n",
    "        )\n",
    "print(plot_correlation_map(data))    "
   ]
  },
  {
   "cell_type": "code",
   "execution_count": 34,
   "id": "915f40e6",
   "metadata": {},
   "outputs": [
    {
     "name": "stdout",
     "output_type": "stream",
     "text": [
      "Earrings  0  1\n",
      "Necklace      \n",
      "0         3  1\n",
      "1         0  1\n"
     ]
    },
    {
     "data": {
      "text/plain": [
       "Text(0, 0.5, 'Earrings')"
      ]
     },
     "execution_count": 34,
     "metadata": {},
     "output_type": "execute_result"
    },
    {
     "data": {
      "image/png": "[encoded data removed]",
      "text/plain": [
       "<Figure size 432x288 with 1 Axes>"
      ]
     },
     "metadata": {
      "needs_background": "light"
     },
     "output_type": "display_data"
    }
   ],
   "source": [
    "tab = pd.crosstab(data['Necklace'], data['Earrings'])\n",
    "print (tab)\n",
    "tab.div(tab.sum(1).astype(float), axis=0).plot(kind=\"bar\", stacked=True)\n",
    "plt.xlabel('Necklace')\n",
    "plt.ylabel('Earrings')"
   ]
  },
  {
   "cell_type": "code",
   "execution_count": 36,
   "id": "71795771",
   "metadata": {},
   "outputs": [
    {
     "data": {
      "text/html": [
       "<div>\n",
       "<style scoped>\n",
       "    .dataframe tbody tr th:only-of-type {\n",
       "        vertical-align: middle;\n",
       "    }\n",
       "\n",
       "    .dataframe tbody tr th {\n",
       "        vertical-align: top;\n",
       "    }\n",
       "\n",
       "    .dataframe thead th {\n",
       "        text-align: right;\n",
       "    }\n",
       "</style>\n",
       "<table border=\"1\" class=\"dataframe\">\n",
       "  <thead>\n",
       "    <tr style=\"text-align: right;\">\n",
       "      <th></th>\n",
       "      <th>shrimp</th>\n",
       "      <th>almonds</th>\n",
       "      <th>avocado</th>\n",
       "      <th>vegetables mix</th>\n",
       "      <th>green grapes</th>\n",
       "      <th>whole weat flour</th>\n",
       "      <th>yams</th>\n",
       "      <th>cottage cheese</th>\n",
       "      <th>energy drink</th>\n",
       "      <th>tomato juice</th>\n",
       "      <th>low fat yogurt</th>\n",
       "      <th>green tea</th>\n",
       "      <th>honey</th>\n",
       "      <th>salad</th>\n",
       "      <th>mineral water</th>\n",
       "      <th>salmon</th>\n",
       "      <th>antioxydant juice</th>\n",
       "      <th>frozen smoothie</th>\n",
       "      <th>spinach</th>\n",
       "      <th>olive oil</th>\n",
       "    </tr>\n",
       "  </thead>\n",
       "  <tbody>\n",
       "    <tr>\n",
       "      <th>0</th>\n",
       "      <td>burgers</td>\n",
       "      <td>meatballs</td>\n",
       "      <td>eggs</td>\n",
       "      <td>NaN</td>\n",
       "      <td>NaN</td>\n",
       "      <td>NaN</td>\n",
       "      <td>NaN</td>\n",
       "      <td>NaN</td>\n",
       "      <td>NaN</td>\n",
       "      <td>NaN</td>\n",
       "      <td>NaN</td>\n",
       "      <td>NaN</td>\n",
       "      <td>NaN</td>\n",
       "      <td>NaN</td>\n",
       "      <td>NaN</td>\n",
       "      <td>NaN</td>\n",
       "      <td>NaN</td>\n",
       "      <td>NaN</td>\n",
       "      <td>NaN</td>\n",
       "      <td>NaN</td>\n",
       "    </tr>\n",
       "    <tr>\n",
       "      <th>1</th>\n",
       "      <td>chutney</td>\n",
       "      <td>NaN</td>\n",
       "      <td>NaN</td>\n",
       "      <td>NaN</td>\n",
       "      <td>NaN</td>\n",
       "      <td>NaN</td>\n",
       "      <td>NaN</td>\n",
       "      <td>NaN</td>\n",
       "      <td>NaN</td>\n",
       "      <td>NaN</td>\n",
       "      <td>NaN</td>\n",
       "      <td>NaN</td>\n",
       "      <td>NaN</td>\n",
       "      <td>NaN</td>\n",
       "      <td>NaN</td>\n",
       "      <td>NaN</td>\n",
       "      <td>NaN</td>\n",
       "      <td>NaN</td>\n",
       "      <td>NaN</td>\n",
       "      <td>NaN</td>\n",
       "    </tr>\n",
       "    <tr>\n",
       "      <th>2</th>\n",
       "      <td>turkey</td>\n",
       "      <td>avocado</td>\n",
       "      <td>NaN</td>\n",
       "      <td>NaN</td>\n",
       "      <td>NaN</td>\n",
       "      <td>NaN</td>\n",
       "      <td>NaN</td>\n",
       "      <td>NaN</td>\n",
       "      <td>NaN</td>\n",
       "      <td>NaN</td>\n",
       "      <td>NaN</td>\n",
       "      <td>NaN</td>\n",
       "      <td>NaN</td>\n",
       "      <td>NaN</td>\n",
       "      <td>NaN</td>\n",
       "      <td>NaN</td>\n",
       "      <td>NaN</td>\n",
       "      <td>NaN</td>\n",
       "      <td>NaN</td>\n",
       "      <td>NaN</td>\n",
       "    </tr>\n",
       "    <tr>\n",
       "      <th>3</th>\n",
       "      <td>mineral water</td>\n",
       "      <td>milk</td>\n",
       "      <td>energy bar</td>\n",
       "      <td>whole wheat rice</td>\n",
       "      <td>green tea</td>\n",
       "      <td>NaN</td>\n",
       "      <td>NaN</td>\n",
       "      <td>NaN</td>\n",
       "      <td>NaN</td>\n",
       "      <td>NaN</td>\n",
       "      <td>NaN</td>\n",
       "      <td>NaN</td>\n",
       "      <td>NaN</td>\n",
       "      <td>NaN</td>\n",
       "      <td>NaN</td>\n",
       "      <td>NaN</td>\n",
       "      <td>NaN</td>\n",
       "      <td>NaN</td>\n",
       "      <td>NaN</td>\n",
       "      <td>NaN</td>\n",
       "    </tr>\n",
       "    <tr>\n",
       "      <th>4</th>\n",
       "      <td>low fat yogurt</td>\n",
       "      <td>NaN</td>\n",
       "      <td>NaN</td>\n",
       "      <td>NaN</td>\n",
       "      <td>NaN</td>\n",
       "      <td>NaN</td>\n",
       "      <td>NaN</td>\n",
       "      <td>NaN</td>\n",
       "      <td>NaN</td>\n",
       "      <td>NaN</td>\n",
       "      <td>NaN</td>\n",
       "      <td>NaN</td>\n",
       "      <td>NaN</td>\n",
       "      <td>NaN</td>\n",
       "      <td>NaN</td>\n",
       "      <td>NaN</td>\n",
       "      <td>NaN</td>\n",
       "      <td>NaN</td>\n",
       "      <td>NaN</td>\n",
       "      <td>NaN</td>\n",
       "    </tr>\n",
       "  </tbody>\n",
       "</table>\n",
       "</div>"
      ],
      "text/plain": [
       "           shrimp    almonds     avocado    vegetables mix green grapes  \\\n",
       "0         burgers  meatballs        eggs               NaN          NaN   \n",
       "1         chutney        NaN         NaN               NaN          NaN   \n",
       "2          turkey    avocado         NaN               NaN          NaN   \n",
       "3   mineral water       milk  energy bar  whole wheat rice    green tea   \n",
       "4  low fat yogurt        NaN         NaN               NaN          NaN   \n",
       "\n",
       "  whole weat flour yams cottage cheese energy drink tomato juice  \\\n",
       "0              NaN  NaN            NaN          NaN          NaN   \n",
       "1              NaN  NaN            NaN          NaN          NaN   \n",
       "2              NaN  NaN            NaN          NaN          NaN   \n",
       "3              NaN  NaN            NaN          NaN          NaN   \n",
       "4              NaN  NaN            NaN          NaN          NaN   \n",
       "\n",
       "  low fat yogurt green tea honey salad mineral water salmon antioxydant juice  \\\n",
       "0            NaN       NaN   NaN   NaN           NaN    NaN               NaN   \n",
       "1            NaN       NaN   NaN   NaN           NaN    NaN               NaN   \n",
       "2            NaN       NaN   NaN   NaN           NaN    NaN               NaN   \n",
       "3            NaN       NaN   NaN   NaN           NaN    NaN               NaN   \n",
       "4            NaN       NaN   NaN   NaN           NaN    NaN               NaN   \n",
       "\n",
       "  frozen smoothie spinach  olive oil  \n",
       "0             NaN     NaN        NaN  \n",
       "1             NaN     NaN        NaN  \n",
       "2             NaN     NaN        NaN  \n",
       "3             NaN     NaN        NaN  \n",
       "4             NaN     NaN        NaN  "
      ]
     },
     "execution_count": 36,
     "metadata": {},
     "output_type": "execute_result"
    }
   ],
   "source": [
    "import pandas as pd\n",
    "df=pd.read_csv('C:\\\\Users\\\\Maram\\\\Desktop\\\\GoMyCode\\\\Market_Basket_Optimisation.csv')\n",
    "df.head()"
   ]
  },
  {
   "cell_type": "code",
   "execution_count": 37,
   "id": "bc2bfb23",
   "metadata": {},
   "outputs": [
    {
     "name": "stdout",
     "output_type": "stream",
     "text": [
      "<class 'pandas.core.frame.DataFrame'>\n",
      "RangeIndex: 7500 entries, 0 to 7499\n",
      "Data columns (total 20 columns):\n",
      " #   Column             Non-Null Count  Dtype  \n",
      "---  ------             --------------  -----  \n",
      " 0   shrimp             7500 non-null   object \n",
      " 1   almonds            5746 non-null   object \n",
      " 2   avocado            4388 non-null   object \n",
      " 3   vegetables mix     3344 non-null   object \n",
      " 4   green grapes       2528 non-null   object \n",
      " 5   whole weat flour   1863 non-null   object \n",
      " 6   yams               1368 non-null   object \n",
      " 7   cottage cheese     980 non-null    object \n",
      " 8   energy drink       653 non-null    object \n",
      " 9   tomato juice       394 non-null    object \n",
      " 10  low fat yogurt     255 non-null    object \n",
      " 11  green tea          153 non-null    object \n",
      " 12  honey              86 non-null     object \n",
      " 13  salad              46 non-null     object \n",
      " 14  mineral water      24 non-null     object \n",
      " 15  salmon             7 non-null      object \n",
      " 16  antioxydant juice  3 non-null      object \n",
      " 17  frozen smoothie    3 non-null      object \n",
      " 18  spinach            2 non-null      object \n",
      " 19  olive oil          0 non-null      float64\n",
      "dtypes: float64(1), object(19)\n",
      "memory usage: 1.1+ MB\n"
     ]
    }
   ],
   "source": [
    "df.info()"
   ]
  },
  {
   "cell_type": "code",
   "execution_count": 38,
   "id": "2339e3d7",
   "metadata": {},
   "outputs": [
    {
     "data": {
      "text/plain": [
       "shrimp                  0\n",
       "almonds              1754\n",
       "avocado              3112\n",
       "vegetables mix       4156\n",
       "green grapes         4972\n",
       "whole weat flour     5637\n",
       "yams                 6132\n",
       "cottage cheese       6520\n",
       "energy drink         6847\n",
       "tomato juice         7106\n",
       "low fat yogurt       7245\n",
       "green tea            7347\n",
       "honey                7414\n",
       "salad                7454\n",
       "mineral water        7476\n",
       "salmon               7493\n",
       "antioxydant juice    7497\n",
       "frozen smoothie      7497\n",
       "spinach              7498\n",
       "olive oil            7500\n",
       "dtype: int64"
      ]
     },
     "execution_count": 38,
     "metadata": {},
     "output_type": "execute_result"
    }
   ],
   "source": [
    "df.isnull().sum()"
   ]
  },
  {
   "cell_type": "code",
   "execution_count": 39,
   "id": "7a9ebed8",
   "metadata": {},
   "outputs": [
    {
     "data": {
      "text/html": [
       "<div>\n",
       "<style scoped>\n",
       "    .dataframe tbody tr th:only-of-type {\n",
       "        vertical-align: middle;\n",
       "    }\n",
       "\n",
       "    .dataframe tbody tr th {\n",
       "        vertical-align: top;\n",
       "    }\n",
       "\n",
       "    .dataframe thead th {\n",
       "        text-align: right;\n",
       "    }\n",
       "</style>\n",
       "<table border=\"1\" class=\"dataframe\">\n",
       "  <thead>\n",
       "    <tr style=\"text-align: right;\">\n",
       "      <th></th>\n",
       "      <th>olive oil</th>\n",
       "    </tr>\n",
       "  </thead>\n",
       "  <tbody>\n",
       "    <tr>\n",
       "      <th>count</th>\n",
       "      <td>0.0</td>\n",
       "    </tr>\n",
       "    <tr>\n",
       "      <th>mean</th>\n",
       "      <td>NaN</td>\n",
       "    </tr>\n",
       "    <tr>\n",
       "      <th>std</th>\n",
       "      <td>NaN</td>\n",
       "    </tr>\n",
       "    <tr>\n",
       "      <th>min</th>\n",
       "      <td>NaN</td>\n",
       "    </tr>\n",
       "    <tr>\n",
       "      <th>25%</th>\n",
       "      <td>NaN</td>\n",
       "    </tr>\n",
       "    <tr>\n",
       "      <th>50%</th>\n",
       "      <td>NaN</td>\n",
       "    </tr>\n",
       "    <tr>\n",
       "      <th>75%</th>\n",
       "      <td>NaN</td>\n",
       "    </tr>\n",
       "    <tr>\n",
       "      <th>max</th>\n",
       "      <td>NaN</td>\n",
       "    </tr>\n",
       "  </tbody>\n",
       "</table>\n",
       "</div>"
      ],
      "text/plain": [
       "       olive oil\n",
       "count        0.0\n",
       "mean         NaN\n",
       "std          NaN\n",
       "min          NaN\n",
       "25%          NaN\n",
       "50%          NaN\n",
       "75%          NaN\n",
       "max          NaN"
      ]
     },
     "execution_count": 39,
     "metadata": {},
     "output_type": "execute_result"
    }
   ],
   "source": [
    "df.describe()"
   ]
  },
  {
   "cell_type": "code",
   "execution_count": 41,
   "id": "f1f394c2",
   "metadata": {},
   "outputs": [],
   "source": [
    "import numpy as np\n",
    "numeric = df.select_dtypes(include=np.number)\n",
    "numeric_columns = numeric.columns\n",
    "df[numeric_columns] = df[numeric_columns].fillna(df.mean())"
   ]
  },
  {
   "cell_type": "code",
   "execution_count": 43,
   "id": "c53c2c20",
   "metadata": {},
   "outputs": [
    {
     "data": {
      "text/plain": [
       "shrimp                  0\n",
       "almonds              1754\n",
       "avocado              3112\n",
       "vegetables mix       4156\n",
       "green grapes         4972\n",
       "whole weat flour     5637\n",
       "yams                 6132\n",
       "cottage cheese       6520\n",
       "energy drink         6847\n",
       "tomato juice         7106\n",
       "low fat yogurt       7245\n",
       "green tea            7347\n",
       "honey                7414\n",
       "salad                7454\n",
       "mineral water        7476\n",
       "salmon               7493\n",
       "antioxydant juice    7497\n",
       "frozen smoothie      7497\n",
       "spinach              7498\n",
       "olive oil            7500\n",
       "dtype: int64"
      ]
     },
     "execution_count": 43,
     "metadata": {},
     "output_type": "execute_result"
    }
   ],
   "source": [
    "df.isnull().sum()"
   ]
  },
  {
   "cell_type": "code",
   "execution_count": 44,
   "id": "04cc12ca",
   "metadata": {},
   "outputs": [],
   "source": [
    "df.fillna(0,inplace=True)"
   ]
  },
  {
   "cell_type": "code",
   "execution_count": 45,
   "id": "0a307d11",
   "metadata": {},
   "outputs": [
    {
     "data": {
      "text/plain": [
       "shrimp               0\n",
       "almonds              0\n",
       "avocado              0\n",
       "vegetables mix       0\n",
       "green grapes         0\n",
       "whole weat flour     0\n",
       "yams                 0\n",
       "cottage cheese       0\n",
       "energy drink         0\n",
       "tomato juice         0\n",
       "low fat yogurt       0\n",
       "green tea            0\n",
       "honey                0\n",
       "salad                0\n",
       "mineral water        0\n",
       "salmon               0\n",
       "antioxydant juice    0\n",
       "frozen smoothie      0\n",
       "spinach              0\n",
       "olive oil            0\n",
       "dtype: int64"
      ]
     },
     "execution_count": 45,
     "metadata": {},
     "output_type": "execute_result"
    }
   ],
   "source": [
    "df.isnull().sum()"
   ]
  },
  {
   "cell_type": "code",
   "execution_count": 46,
   "id": "70c14e7b",
   "metadata": {},
   "outputs": [
    {
     "data": {
      "text/html": [
       "<div>\n",
       "<style scoped>\n",
       "    .dataframe tbody tr th:only-of-type {\n",
       "        vertical-align: middle;\n",
       "    }\n",
       "\n",
       "    .dataframe tbody tr th {\n",
       "        vertical-align: top;\n",
       "    }\n",
       "\n",
       "    .dataframe thead th {\n",
       "        text-align: right;\n",
       "    }\n",
       "</style>\n",
       "<table border=\"1\" class=\"dataframe\">\n",
       "  <thead>\n",
       "    <tr style=\"text-align: right;\">\n",
       "      <th></th>\n",
       "      <th>shrimp</th>\n",
       "      <th>almonds</th>\n",
       "      <th>avocado</th>\n",
       "      <th>vegetables mix</th>\n",
       "      <th>green grapes</th>\n",
       "      <th>whole weat flour</th>\n",
       "      <th>yams</th>\n",
       "      <th>cottage cheese</th>\n",
       "      <th>energy drink</th>\n",
       "      <th>tomato juice</th>\n",
       "      <th>low fat yogurt</th>\n",
       "      <th>green tea</th>\n",
       "      <th>honey</th>\n",
       "      <th>salad</th>\n",
       "      <th>mineral water</th>\n",
       "      <th>salmon</th>\n",
       "      <th>antioxydant juice</th>\n",
       "      <th>frozen smoothie</th>\n",
       "      <th>spinach</th>\n",
       "      <th>olive oil</th>\n",
       "    </tr>\n",
       "  </thead>\n",
       "  <tbody>\n",
       "    <tr>\n",
       "      <th>0</th>\n",
       "      <td>burgers</td>\n",
       "      <td>meatballs</td>\n",
       "      <td>eggs</td>\n",
       "      <td>0</td>\n",
       "      <td>0</td>\n",
       "      <td>0</td>\n",
       "      <td>0</td>\n",
       "      <td>0</td>\n",
       "      <td>0</td>\n",
       "      <td>0</td>\n",
       "      <td>0</td>\n",
       "      <td>0</td>\n",
       "      <td>0</td>\n",
       "      <td>0</td>\n",
       "      <td>0</td>\n",
       "      <td>0</td>\n",
       "      <td>0</td>\n",
       "      <td>0</td>\n",
       "      <td>0</td>\n",
       "      <td>0.0</td>\n",
       "    </tr>\n",
       "    <tr>\n",
       "      <th>1</th>\n",
       "      <td>chutney</td>\n",
       "      <td>0</td>\n",
       "      <td>0</td>\n",
       "      <td>0</td>\n",
       "      <td>0</td>\n",
       "      <td>0</td>\n",
       "      <td>0</td>\n",
       "      <td>0</td>\n",
       "      <td>0</td>\n",
       "      <td>0</td>\n",
       "      <td>0</td>\n",
       "      <td>0</td>\n",
       "      <td>0</td>\n",
       "      <td>0</td>\n",
       "      <td>0</td>\n",
       "      <td>0</td>\n",
       "      <td>0</td>\n",
       "      <td>0</td>\n",
       "      <td>0</td>\n",
       "      <td>0.0</td>\n",
       "    </tr>\n",
       "    <tr>\n",
       "      <th>2</th>\n",
       "      <td>turkey</td>\n",
       "      <td>avocado</td>\n",
       "      <td>0</td>\n",
       "      <td>0</td>\n",
       "      <td>0</td>\n",
       "      <td>0</td>\n",
       "      <td>0</td>\n",
       "      <td>0</td>\n",
       "      <td>0</td>\n",
       "      <td>0</td>\n",
       "      <td>0</td>\n",
       "      <td>0</td>\n",
       "      <td>0</td>\n",
       "      <td>0</td>\n",
       "      <td>0</td>\n",
       "      <td>0</td>\n",
       "      <td>0</td>\n",
       "      <td>0</td>\n",
       "      <td>0</td>\n",
       "      <td>0.0</td>\n",
       "    </tr>\n",
       "    <tr>\n",
       "      <th>3</th>\n",
       "      <td>mineral water</td>\n",
       "      <td>milk</td>\n",
       "      <td>energy bar</td>\n",
       "      <td>whole wheat rice</td>\n",
       "      <td>green tea</td>\n",
       "      <td>0</td>\n",
       "      <td>0</td>\n",
       "      <td>0</td>\n",
       "      <td>0</td>\n",
       "      <td>0</td>\n",
       "      <td>0</td>\n",
       "      <td>0</td>\n",
       "      <td>0</td>\n",
       "      <td>0</td>\n",
       "      <td>0</td>\n",
       "      <td>0</td>\n",
       "      <td>0</td>\n",
       "      <td>0</td>\n",
       "      <td>0</td>\n",
       "      <td>0.0</td>\n",
       "    </tr>\n",
       "    <tr>\n",
       "      <th>4</th>\n",
       "      <td>low fat yogurt</td>\n",
       "      <td>0</td>\n",
       "      <td>0</td>\n",
       "      <td>0</td>\n",
       "      <td>0</td>\n",
       "      <td>0</td>\n",
       "      <td>0</td>\n",
       "      <td>0</td>\n",
       "      <td>0</td>\n",
       "      <td>0</td>\n",
       "      <td>0</td>\n",
       "      <td>0</td>\n",
       "      <td>0</td>\n",
       "      <td>0</td>\n",
       "      <td>0</td>\n",
       "      <td>0</td>\n",
       "      <td>0</td>\n",
       "      <td>0</td>\n",
       "      <td>0</td>\n",
       "      <td>0.0</td>\n",
       "    </tr>\n",
       "  </tbody>\n",
       "</table>\n",
       "</div>"
      ],
      "text/plain": [
       "           shrimp    almonds     avocado    vegetables mix green grapes  \\\n",
       "0         burgers  meatballs        eggs                 0            0   \n",
       "1         chutney          0           0                 0            0   \n",
       "2          turkey    avocado           0                 0            0   \n",
       "3   mineral water       milk  energy bar  whole wheat rice    green tea   \n",
       "4  low fat yogurt          0           0                 0            0   \n",
       "\n",
       "  whole weat flour yams cottage cheese energy drink tomato juice  \\\n",
       "0                0    0              0            0            0   \n",
       "1                0    0              0            0            0   \n",
       "2                0    0              0            0            0   \n",
       "3                0    0              0            0            0   \n",
       "4                0    0              0            0            0   \n",
       "\n",
       "  low fat yogurt green tea honey salad mineral water salmon antioxydant juice  \\\n",
       "0              0         0     0     0             0      0                 0   \n",
       "1              0         0     0     0             0      0                 0   \n",
       "2              0         0     0     0             0      0                 0   \n",
       "3              0         0     0     0             0      0                 0   \n",
       "4              0         0     0     0             0      0                 0   \n",
       "\n",
       "  frozen smoothie spinach  olive oil  \n",
       "0               0       0        0.0  \n",
       "1               0       0        0.0  \n",
       "2               0       0        0.0  \n",
       "3               0       0        0.0  \n",
       "4               0       0        0.0  "
      ]
     },
     "execution_count": 46,
     "metadata": {},
     "output_type": "execute_result"
    }
   ],
   "source": [
    "df.head()"
   ]
  },
  {
   "cell_type": "code",
   "execution_count": 47,
   "id": "d95dfba4",
   "metadata": {},
   "outputs": [
    {
     "data": {
      "text/plain": [
       "Text(0, 0.5, 'Count')"
      ]
     },
     "execution_count": 47,
     "metadata": {},
     "output_type": "execute_result"
    },
    {
     "data": {
      "image/png": "[encoded data removed]",
      "text/plain": [
       "<Figure size 1080x720 with 1 Axes>"
      ]
     },
     "metadata": {
      "needs_background": "light"
     },
     "output_type": "display_data"
    }
   ],
   "source": [
    "plt.figure(figsize=(15,10))\n",
    "sns.countplot(x=\"shrimp\", data=df)\n",
    "plt.title('how many times is shrimp bought with other groceries?')\n",
    "plt.xlabel(\"shrimp\")\n",
    "plt.ylabel(\"Count\")"
   ]
  },
  {
   "cell_type": "code",
   "execution_count": 51,
   "id": "e3599f92",
   "metadata": {},
   "outputs": [],
   "source": [
    "import mlxtend\n",
    "import pandas as pd\n",
    "from mlxtend.preprocessing import TransactionEncoder\n",
    "te=TransactionEncoder()\n",
    "te_ary=te.fit(df).transform(df)   \n",
    "df=pd.DataFrame(te_ary, columns=te.columns_) "
   ]
  },
  {
   "cell_type": "code",
   "execution_count": 52,
   "id": "a446f23f",
   "metadata": {},
   "outputs": [
    {
     "data": {
      "text/html": [
       "<div>\n",
       "<style scoped>\n",
       "    .dataframe tbody tr th:only-of-type {\n",
       "        vertical-align: middle;\n",
       "    }\n",
       "\n",
       "    .dataframe tbody tr th {\n",
       "        vertical-align: top;\n",
       "    }\n",
       "\n",
       "    .dataframe thead th {\n",
       "        text-align: right;\n",
       "    }\n",
       "</style>\n",
       "<table border=\"1\" class=\"dataframe\">\n",
       "  <thead>\n",
       "    <tr style=\"text-align: right;\">\n",
       "      <th></th>\n",
       "      <th>support</th>\n",
       "      <th>itemsets</th>\n",
       "    </tr>\n",
       "  </thead>\n",
       "  <tbody>\n",
       "  </tbody>\n",
       "</table>\n",
       "</div>"
      ],
      "text/plain": [
       "Empty DataFrame\n",
       "Columns: [support, itemsets]\n",
       "Index: []"
      ]
     },
     "execution_count": 52,
     "metadata": {},
     "output_type": "execute_result"
    }
   ],
   "source": [
    "from mlxtend.frequent_patterns import apriori\n",
    "apriori(df, min_support=0.6)"
   ]
  },
  {
   "cell_type": "code",
   "execution_count": 54,
   "id": "e6ca3709",
   "metadata": {},
   "outputs": [
    {
     "data": {
      "text/html": [
       "<div>\n",
       "<style scoped>\n",
       "    .dataframe tbody tr th:only-of-type {\n",
       "        vertical-align: middle;\n",
       "    }\n",
       "\n",
       "    .dataframe tbody tr th {\n",
       "        vertical-align: top;\n",
       "    }\n",
       "\n",
       "    .dataframe thead th {\n",
       "        text-align: right;\n",
       "    }\n",
       "</style>\n",
       "<table border=\"1\" class=\"dataframe\">\n",
       "  <thead>\n",
       "    <tr style=\"text-align: right;\">\n",
       "      <th></th>\n",
       "      <th>support</th>\n",
       "      <th>itemsets</th>\n",
       "    </tr>\n",
       "  </thead>\n",
       "  <tbody>\n",
       "  </tbody>\n",
       "</table>\n",
       "</div>"
      ],
      "text/plain": [
       "Empty DataFrame\n",
       "Columns: [support, itemsets]\n",
       "Index: []"
      ]
     },
     "execution_count": 54,
     "metadata": {},
     "output_type": "execute_result"
    }
   ],
   "source": [
    "frequent_itemsets1=apriori(df, min_support=0.6, use_colnames=True) \n",
    "frequent_itemsets1"
   ]
  },
  {
   "cell_type": "code",
   "execution_count": null,
   "id": "47d15000",
   "metadata": {},
   "outputs": [],
   "source": []
  }
 ],
 "metadata": {
  "kernelspec": {
   "display_name": "Python 3",
   "language": "python",
   "name": "python3"
  },
  "language_info": {
   "codemirror_mode": {
    "name": "ipython",
    "version": 3
   },
   "file_extension": ".py",
   "mimetype": "text/x-python",
   "name": "python",
   "nbconvert_exporter": "python",
   "pygments_lexer": "ipython3",
   "version": "3.8.8"
  }
 },
 "nbformat": 4,
 "nbformat_minor": 5
}
